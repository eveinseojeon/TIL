{
 "cells": [
  {
   "cell_type": "code",
   "execution_count": 1,
   "id": "e86e4438",
   "metadata": {},
   "outputs": [],
   "source": [
    "import pandas as pd\n",
    "import numpy as np"
   ]
  },
  {
   "cell_type": "markdown",
   "id": "b4c76950",
   "metadata": {},
   "source": [
    "## 모평균 비교에 관한 가설검정: t-test"
   ]
  },
  {
   "cell_type": "code",
   "execution_count": 2,
   "id": "9d625d9c",
   "metadata": {},
   "outputs": [],
   "source": [
    "from scipy.stats import ttest_1samp, ttest_rel, ttest_ind\n",
    "import math"
   ]
  },
  {
   "cell_type": "code",
   "execution_count": 56,
   "id": "e3d4a26a",
   "metadata": {},
   "outputs": [
    {
     "data": {
      "text/plain": [
       "0.002"
      ]
     },
     "execution_count": 56,
     "metadata": {},
     "output_type": "execute_result"
    }
   ],
   "source": [
    "# Q1\n",
    "df = pd.read_csv('bike.csv')\n",
    "stat, p = ttest_1samp(df['temp'], popmean=20)\n",
    "round(p, 3)"
   ]
  },
  {
   "cell_type": "code",
   "execution_count": 88,
   "id": "f4929146",
   "metadata": {},
   "outputs": [
    {
     "data": {
      "text/plain": [
       "21"
      ]
     },
     "execution_count": 88,
     "metadata": {},
     "output_type": "execute_result"
    }
   ],
   "source": [
    "# Q2\n",
    "df = pd.read_csv('bike.csv')\n",
    "df_1 = df[df['datetime'].str[:7]=='2011-01']\n",
    "stat, p = ttest_rel(df_1['casual'], df_1['registered'])\n",
    "math.trunc(abs(stat))"
   ]
  },
  {
   "cell_type": "code",
   "execution_count": 89,
   "id": "2678d21f",
   "metadata": {},
   "outputs": [
    {
     "data": {
      "text/plain": [
       "12"
      ]
     },
     "execution_count": 89,
     "metadata": {},
     "output_type": "execute_result"
    }
   ],
   "source": [
    "# Q3\n",
    "df = pd.read_csv('bike.csv')\n",
    "df['datetime'] = pd.to_datetime(df['datetime'])\n",
    "df['day'] = df['datetime'].dt.weekday\n",
    "df['weekend'] = (df['day']>=5) + 0 # 5,6이 주말\n",
    "stat, p = ttest_ind(df.loc[df['weekend']==1, 'registered'],\n",
    "                    df.loc[df['weekend']==0, 'registered'])\n",
    "math.trunc(abs(stat))"
   ]
  },
  {
   "cell_type": "markdown",
   "id": "b3457215",
   "metadata": {},
   "source": [
    "## 모평균 비교에 관한 가설검정: One way ANOVA"
   ]
  },
  {
   "cell_type": "code",
   "execution_count": 3,
   "id": "213f37ca",
   "metadata": {},
   "outputs": [],
   "source": [
    "from scipy.stats import f_oneway\n",
    "from statsmodels.formula.api import ols\n",
    "from statsmodels.stats.anova import anova_lm\n",
    "from statsmodels.stats.multicomp import pairwise_tukeyhsd"
   ]
  },
  {
   "cell_type": "code",
   "execution_count": 103,
   "id": "23ef4a80",
   "metadata": {},
   "outputs": [
    {
     "data": {
      "text/html": [
       "<div>\n",
       "<style scoped>\n",
       "    .dataframe tbody tr th:only-of-type {\n",
       "        vertical-align: middle;\n",
       "    }\n",
       "\n",
       "    .dataframe tbody tr th {\n",
       "        vertical-align: top;\n",
       "    }\n",
       "\n",
       "    .dataframe thead th {\n",
       "        text-align: right;\n",
       "    }\n",
       "</style>\n",
       "<table border=\"1\" class=\"dataframe\">\n",
       "  <thead>\n",
       "    <tr style=\"text-align: right;\">\n",
       "      <th></th>\n",
       "      <th>df</th>\n",
       "      <th>sum_sq</th>\n",
       "      <th>mean_sq</th>\n",
       "      <th>F</th>\n",
       "      <th>PR(&gt;F)</th>\n",
       "    </tr>\n",
       "  </thead>\n",
       "  <tbody>\n",
       "    <tr>\n",
       "      <th>C(season)</th>\n",
       "      <td>3.0</td>\n",
       "      <td>412885.270005</td>\n",
       "      <td>137628.423335</td>\n",
       "      <td>6040.687453</td>\n",
       "      <td>0.0</td>\n",
       "    </tr>\n",
       "    <tr>\n",
       "      <th>Residual</th>\n",
       "      <td>10882.0</td>\n",
       "      <td>247930.804947</td>\n",
       "      <td>22.783570</td>\n",
       "      <td>NaN</td>\n",
       "      <td>NaN</td>\n",
       "    </tr>\n",
       "  </tbody>\n",
       "</table>\n",
       "</div>"
      ],
      "text/plain": [
       "                df         sum_sq        mean_sq            F  PR(>F)\n",
       "C(season)      3.0  412885.270005  137628.423335  6040.687453     0.0\n",
       "Residual   10882.0  247930.804947      22.783570          NaN     NaN"
      ]
     },
     "execution_count": 103,
     "metadata": {},
     "output_type": "execute_result"
    }
   ],
   "source": [
    "# Q2\n",
    "df = pd.read_csv('bike.csv')\n",
    "lm = ols('temp~C(season)', df).fit()\n",
    "anova_lm(lm)"
   ]
  },
  {
   "cell_type": "code",
   "execution_count": 109,
   "id": "ac455412",
   "metadata": {},
   "outputs": [
    {
     "name": "stdout",
     "output_type": "stream",
     "text": [
      " Multiple Comparison of Means - Tukey HSD, FWER=0.05  \n",
      "======================================================\n",
      "group1 group2 meandiff p-adj   lower    upper   reject\n",
      "------------------------------------------------------\n",
      "     0      1   6.1979    0.9  -9.7188  22.1146  False\n",
      "     0      2    5.343    0.9 -10.5427  21.2287  False\n",
      "     0      3  12.7424 0.2132  -3.1383   28.623  False\n",
      "     0      4   6.2956    0.9  -9.6471  22.2384  False\n",
      "     0      5 -27.5063  0.001 -43.3091 -11.7036   True\n",
      "     0      6 -36.7583  0.001 -52.5734 -20.9431   True\n",
      "     1      2  -0.8549    0.9 -16.7716  15.0618  False\n",
      "     1      3   6.5445 0.8863  -9.3671  22.4561  False\n",
      "     1      4   0.0977    0.9 -15.8759  16.0713  False\n",
      "     1      5 -33.7042  0.001 -49.5381 -17.8704   True\n",
      "     1      6 -42.9562  0.001 -58.8024 -27.1099   True\n",
      "     2      3   7.3994 0.7916  -8.4813    23.28  False\n",
      "     2      4   0.9526    0.9 -14.9901  16.8954  False\n",
      "     2      5 -32.8493  0.001 -48.6521 -17.0466   True\n",
      "     2      6 -42.1013  0.001 -57.9164 -26.2861   True\n",
      "     3      4  -6.4467 0.8981 -22.3844   9.4909  False\n",
      "     3      5 -40.2487  0.001 -56.0464 -24.4511   True\n",
      "     3      6 -49.5006  0.001 -65.3107 -33.6906   True\n",
      "     4      5  -33.802  0.001 -49.6621 -17.9419   True\n",
      "     4      6 -43.0539  0.001 -58.9264 -27.1815   True\n",
      "     5      6  -9.2519 0.5798 -24.9838   6.4799  False\n",
      "------------------------------------------------------\n"
     ]
    }
   ],
   "source": [
    "# Q3\n",
    "df = pd.read_csv('bike.csv')\n",
    "df['datetime'] = pd.to_datetime(df['datetime'])\n",
    "df['day'] = df['datetime'].dt.weekday\n",
    "print(pairwise_tukeyhsd(df['registered'], df['day']))"
   ]
  },
  {
   "cell_type": "markdown",
   "id": "5be80eca",
   "metadata": {},
   "source": [
    "## 모평균 비교에 관한 가설검정: Two way ANOVA"
   ]
  },
  {
   "cell_type": "code",
   "execution_count": 9,
   "id": "f19b166f",
   "metadata": {},
   "outputs": [
    {
     "data": {
      "text/html": [
       "<div>\n",
       "<style scoped>\n",
       "    .dataframe tbody tr th:only-of-type {\n",
       "        vertical-align: middle;\n",
       "    }\n",
       "\n",
       "    .dataframe tbody tr th {\n",
       "        vertical-align: top;\n",
       "    }\n",
       "\n",
       "    .dataframe thead th {\n",
       "        text-align: right;\n",
       "    }\n",
       "</style>\n",
       "<table border=\"1\" class=\"dataframe\">\n",
       "  <thead>\n",
       "    <tr style=\"text-align: right;\">\n",
       "      <th></th>\n",
       "      <th>df</th>\n",
       "      <th>sum_sq</th>\n",
       "      <th>mean_sq</th>\n",
       "      <th>F</th>\n",
       "      <th>PR(&gt;F)</th>\n",
       "    </tr>\n",
       "  </thead>\n",
       "  <tbody>\n",
       "    <tr>\n",
       "      <th>C(season)</th>\n",
       "      <td>3.0</td>\n",
       "      <td>1.099019e+07</td>\n",
       "      <td>3.663398e+06</td>\n",
       "      <td>168.072567</td>\n",
       "      <td>1.646504e-106</td>\n",
       "    </tr>\n",
       "    <tr>\n",
       "      <th>C(holiday)</th>\n",
       "      <td>1.0</td>\n",
       "      <td>1.370390e+05</td>\n",
       "      <td>1.370390e+05</td>\n",
       "      <td>6.287195</td>\n",
       "      <td>1.217579e-02</td>\n",
       "    </tr>\n",
       "    <tr>\n",
       "      <th>C(season):C(holiday)</th>\n",
       "      <td>3.0</td>\n",
       "      <td>8.736484e+04</td>\n",
       "      <td>2.912161e+04</td>\n",
       "      <td>1.336067</td>\n",
       "      <td>2.606397e-01</td>\n",
       "    </tr>\n",
       "    <tr>\n",
       "      <th>Residual</th>\n",
       "      <td>10878.0</td>\n",
       "      <td>2.371026e+08</td>\n",
       "      <td>2.179653e+04</td>\n",
       "      <td>NaN</td>\n",
       "      <td>NaN</td>\n",
       "    </tr>\n",
       "  </tbody>\n",
       "</table>\n",
       "</div>"
      ],
      "text/plain": [
       "                           df        sum_sq       mean_sq           F  \\\n",
       "C(season)                 3.0  1.099019e+07  3.663398e+06  168.072567   \n",
       "C(holiday)                1.0  1.370390e+05  1.370390e+05    6.287195   \n",
       "C(season):C(holiday)      3.0  8.736484e+04  2.912161e+04    1.336067   \n",
       "Residual              10878.0  2.371026e+08  2.179653e+04         NaN   \n",
       "\n",
       "                             PR(>F)  \n",
       "C(season)             1.646504e-106  \n",
       "C(holiday)             1.217579e-02  \n",
       "C(season):C(holiday)   2.606397e-01  \n",
       "Residual                        NaN  "
      ]
     },
     "execution_count": 9,
     "metadata": {},
     "output_type": "execute_result"
    }
   ],
   "source": [
    "# Q1\n",
    "df = pd.read_csv('bike.csv')\n",
    "formula = 'registered ~ C(season) + C(holiday) + C(season):C(holiday)'\n",
    "model = ols(formula, df).fit()\n",
    "anova_lm(model)"
   ]
  },
  {
   "cell_type": "code",
   "execution_count": 14,
   "id": "45190870",
   "metadata": {},
   "outputs": [
    {
     "data": {
      "text/html": [
       "<div>\n",
       "<style scoped>\n",
       "    .dataframe tbody tr th:only-of-type {\n",
       "        vertical-align: middle;\n",
       "    }\n",
       "\n",
       "    .dataframe tbody tr th {\n",
       "        vertical-align: top;\n",
       "    }\n",
       "\n",
       "    .dataframe thead th {\n",
       "        text-align: right;\n",
       "    }\n",
       "</style>\n",
       "<table border=\"1\" class=\"dataframe\">\n",
       "  <thead>\n",
       "    <tr style=\"text-align: right;\">\n",
       "      <th></th>\n",
       "      <th>df</th>\n",
       "      <th>sum_sq</th>\n",
       "      <th>mean_sq</th>\n",
       "      <th>F</th>\n",
       "      <th>PR(&gt;F)</th>\n",
       "    </tr>\n",
       "  </thead>\n",
       "  <tbody>\n",
       "    <tr>\n",
       "      <th>C(season)</th>\n",
       "      <td>3.0</td>\n",
       "      <td>1.099019e+07</td>\n",
       "      <td>3.663398e+06</td>\n",
       "      <td>170.4139</td>\n",
       "      <td>0.0000</td>\n",
       "    </tr>\n",
       "    <tr>\n",
       "      <th>C(weather)</th>\n",
       "      <td>3.0</td>\n",
       "      <td>3.216611e+06</td>\n",
       "      <td>1.072204e+06</td>\n",
       "      <td>49.8767</td>\n",
       "      <td>0.0000</td>\n",
       "    </tr>\n",
       "    <tr>\n",
       "      <th>C(season):C(weather)</th>\n",
       "      <td>9.0</td>\n",
       "      <td>3.765184e+05</td>\n",
       "      <td>4.183537e+04</td>\n",
       "      <td>1.9461</td>\n",
       "      <td>0.0414</td>\n",
       "    </tr>\n",
       "    <tr>\n",
       "      <th>Residual</th>\n",
       "      <td>10873.0</td>\n",
       "      <td>2.337376e+08</td>\n",
       "      <td>2.149706e+04</td>\n",
       "      <td>NaN</td>\n",
       "      <td>NaN</td>\n",
       "    </tr>\n",
       "  </tbody>\n",
       "</table>\n",
       "</div>"
      ],
      "text/plain": [
       "                           df        sum_sq       mean_sq         F  PR(>F)\n",
       "C(season)                 3.0  1.099019e+07  3.663398e+06  170.4139  0.0000\n",
       "C(weather)                3.0  3.216611e+06  1.072204e+06   49.8767  0.0000\n",
       "C(season):C(weather)      9.0  3.765184e+05  4.183537e+04    1.9461  0.0414\n",
       "Residual              10873.0  2.337376e+08  2.149706e+04       NaN     NaN"
      ]
     },
     "execution_count": 14,
     "metadata": {},
     "output_type": "execute_result"
    }
   ],
   "source": [
    "# Q2\n",
    "df = pd.read_csv('bike.csv')\n",
    "formula = 'registered ~ C(season) + C(weather) + C(season):C(weather)'\n",
    "model = ols(formula, df).fit()\n",
    "anova_lm(model).round(4)"
   ]
  },
  {
   "cell_type": "code",
   "execution_count": 32,
   "id": "9e086822",
   "metadata": {},
   "outputs": [
    {
     "data": {
      "text/html": [
       "<div>\n",
       "<style scoped>\n",
       "    .dataframe tbody tr th:only-of-type {\n",
       "        vertical-align: middle;\n",
       "    }\n",
       "\n",
       "    .dataframe tbody tr th {\n",
       "        vertical-align: top;\n",
       "    }\n",
       "\n",
       "    .dataframe thead th {\n",
       "        text-align: right;\n",
       "    }\n",
       "</style>\n",
       "<table border=\"1\" class=\"dataframe\">\n",
       "  <thead>\n",
       "    <tr style=\"text-align: right;\">\n",
       "      <th></th>\n",
       "      <th>df</th>\n",
       "      <th>sum_sq</th>\n",
       "      <th>mean_sq</th>\n",
       "      <th>F</th>\n",
       "      <th>PR(&gt;F)</th>\n",
       "    </tr>\n",
       "  </thead>\n",
       "  <tbody>\n",
       "    <tr>\n",
       "      <th>C(gen)</th>\n",
       "      <td>4.0</td>\n",
       "      <td>850.9551</td>\n",
       "      <td>212.7388</td>\n",
       "      <td>4.7079</td>\n",
       "      <td>0.0009</td>\n",
       "    </tr>\n",
       "    <tr>\n",
       "      <th>C(preg)</th>\n",
       "      <td>1.0</td>\n",
       "      <td>1253.8068</td>\n",
       "      <td>1253.8068</td>\n",
       "      <td>27.7467</td>\n",
       "      <td>0.0000</td>\n",
       "    </tr>\n",
       "    <tr>\n",
       "      <th>C(gen):C(preg)</th>\n",
       "      <td>4.0</td>\n",
       "      <td>321.2309</td>\n",
       "      <td>80.3077</td>\n",
       "      <td>1.7772</td>\n",
       "      <td>0.1315</td>\n",
       "    </tr>\n",
       "    <tr>\n",
       "      <th>Residual</th>\n",
       "      <td>744.0</td>\n",
       "      <td>33619.5232</td>\n",
       "      <td>45.1875</td>\n",
       "      <td>NaN</td>\n",
       "      <td>NaN</td>\n",
       "    </tr>\n",
       "  </tbody>\n",
       "</table>\n",
       "</div>"
      ],
      "text/plain": [
       "                   df      sum_sq    mean_sq        F  PR(>F)\n",
       "C(gen)            4.0    850.9551   212.7388   4.7079  0.0009\n",
       "C(preg)           1.0   1253.8068  1253.8068  27.7467  0.0000\n",
       "C(gen):C(preg)    4.0    321.2309    80.3077   1.7772  0.1315\n",
       "Residual        744.0  33619.5232    45.1875      NaN     NaN"
      ]
     },
     "execution_count": 32,
     "metadata": {},
     "output_type": "execute_result"
    }
   ],
   "source": [
    "# Q3\n",
    "df = pd.read_csv('diabetes.csv')\n",
    "df = df.loc[(df['Age']<70) & (df['BMI']!=0),:]\n",
    "df['preg'] = (df['Pregnancies']>0) + 0\n",
    "df['gen'] = df['Age']//10\n",
    "\n",
    "formula = 'BMI ~ C(gen) + C(preg) + C(gen):C(preg)'\n",
    "model = ols(formula, df).fit()\n",
    "anova_lm(model).round(4)"
   ]
  },
  {
   "cell_type": "markdown",
   "id": "365f3870",
   "metadata": {},
   "source": [
    "## 모분산 비교에 관한 가설검정: 등분산 검정(F-test of equality of variances)"
   ]
  },
  {
   "cell_type": "code",
   "execution_count": 4,
   "id": "9c75caac",
   "metadata": {},
   "outputs": [],
   "source": [
    "from scipy.stats import f, bartlett, levene"
   ]
  },
  {
   "cell_type": "code",
   "execution_count": 25,
   "id": "ee00db1e",
   "metadata": {},
   "outputs": [
    {
     "name": "stdout",
     "output_type": "stream",
     "text": [
      "1.6665446172570928\n"
     ]
    }
   ],
   "source": [
    "# Q1\n",
    "df = pd.read_csv('financial_info_10k_persons.csv')\n",
    "df['trans_once'] = df['Total_trans_amt'] / df['Total_trans_cnt']\n",
    "ser_m = df.loc[df['Gender']=='M', 'trans_once']\n",
    "ser_f = df.loc[df['Gender']=='F', 'trans_once']\n",
    "F = ser_m.var() / ser_f.var() # F검정통계량\n",
    "print(F)"
   ]
  },
  {
   "cell_type": "code",
   "execution_count": 26,
   "id": "06d77701",
   "metadata": {},
   "outputs": [
    {
     "name": "stdout",
     "output_type": "stream",
     "text": [
      "0.004109245841612487\n"
     ]
    }
   ],
   "source": [
    "# Q2\n",
    "df = pd.read_csv('financial_info_10k_persons.csv')\n",
    "df['trans_once'] = df['Total_trans_amt'] / df['Total_trans_cnt']\n",
    "df['Gen'] = (df['Age']//10) * 10\n",
    "stat, p = bartlett(df.loc[df['Gen']==50, 'trans_once'],\n",
    "                   df.loc[df['Gen']==60, 'trans_once'],\n",
    "                   df.loc[df['Gen']==70, 'trans_once'])\n",
    "print(p)"
   ]
  },
  {
   "cell_type": "code",
   "execution_count": 35,
   "id": "5b5869f7",
   "metadata": {},
   "outputs": [
    {
     "name": "stdout",
     "output_type": "stream",
     "text": [
      "0.5070685402777693\n"
     ]
    }
   ],
   "source": [
    "# Q3\n",
    "df = pd.read_csv('financial_info_10k_persons.csv')\n",
    "df['trans_once'] = df['Total_trans_amt'] / df['Total_trans_cnt']\n",
    "df_sub = df.loc[(df['Dependent_cnt']==0)&(df['Gender']=='M'),:]\n",
    "stat, p = levene(df_sub.loc[df_sub['Edu_level']==df_sub['Edu_level'].unique()[0],'trans_once'],\n",
    "                 df_sub.loc[df_sub['Edu_level']==df_sub['Edu_level'].unique()[1],'trans_once'],\n",
    "                 df_sub.loc[df_sub['Edu_level']==df_sub['Edu_level'].unique()[2],'trans_once'],\n",
    "                 df_sub.loc[df_sub['Edu_level']==df_sub['Edu_level'].unique()[3],'trans_once'],\n",
    "                 df_sub.loc[df_sub['Edu_level']==df_sub['Edu_level'].unique()[4],'trans_once'],\n",
    "                 df_sub.loc[df_sub['Edu_level']==df_sub['Edu_level'].unique()[5],'trans_once'],\n",
    "                 df_sub.loc[df_sub['Edu_level']==df_sub['Edu_level'].unique()[6],'trans_once'])\n",
    "print(p)"
   ]
  },
  {
   "cell_type": "markdown",
   "id": "97b2ce81",
   "metadata": {},
   "source": [
    "## 범주형 변수 간의 독립성 검정(Chi-squared test)"
   ]
  },
  {
   "cell_type": "code",
   "execution_count": 5,
   "id": "00bad907",
   "metadata": {},
   "outputs": [],
   "source": [
    "from scipy.stats import chi2_contingency"
   ]
  },
  {
   "cell_type": "code",
   "execution_count": 64,
   "id": "e666c51d",
   "metadata": {},
   "outputs": [
    {
     "name": "stdout",
     "output_type": "stream",
     "text": [
      "0.0461\n"
     ]
    }
   ],
   "source": [
    "# Q1\n",
    "df = pd.read_csv('financial_info_10k_persons.csv')\n",
    "df_sub = df.loc[df['Edu_level']=='High School',]\n",
    "stat, p, dof, exp = chi2_contingency(pd.crosstab(df_sub['Gender'], df_sub['is_attrited']),\n",
    "                                     correction=False)\n",
    "print(round(p,4))"
   ]
  },
  {
   "cell_type": "code",
   "execution_count": 65,
   "id": "2216f69e",
   "metadata": {},
   "outputs": [
    {
     "name": "stdout",
     "output_type": "stream",
     "text": [
      "66.457\n"
     ]
    }
   ],
   "source": [
    "# Q2\n",
    "df = pd.read_csv('financial_info_10k_persons.csv')\n",
    "stat, p, dof, exp = chi2_contingency(pd.crosstab(df['Gender'], df['Card']))\n",
    "print(round(stat,3))"
   ]
  },
  {
   "cell_type": "code",
   "execution_count": 66,
   "id": "be214471",
   "metadata": {},
   "outputs": [
    {
     "data": {
      "text/plain": [
       "(210.74834292621756,\n",
       " 9.431916381955241e-48,\n",
       " 1,\n",
       " array([[4606.4112,  869.5888],\n",
       "        [3805.5888,  718.4112]]))"
      ]
     },
     "execution_count": 66,
     "metadata": {},
     "output_type": "execute_result"
    }
   ],
   "source": [
    "# Q3\n",
    "df = pd.read_csv('financial_info_10k_persons.csv')\n",
    "df['y'] = (df['Inactive_last_12m']>=3) + 0\n",
    "chi2_contingency(pd.crosstab(df['y'], df['is_attrited']))"
   ]
  },
  {
   "cell_type": "markdown",
   "id": "a4fa0a98",
   "metadata": {},
   "source": [
    "## 시계열 분석"
   ]
  },
  {
   "cell_type": "code",
   "execution_count": 6,
   "id": "b5ef98af",
   "metadata": {},
   "outputs": [],
   "source": [
    "from statsmodels.tsa.seasonal import seasonal_decompose"
   ]
  },
  {
   "cell_type": "code",
   "execution_count": 55,
   "id": "a32f51ab",
   "metadata": {},
   "outputs": [
    {
     "name": "stdout",
     "output_type": "stream",
     "text": [
      "216590    1263.737309\n",
      "dtype: float64\n"
     ]
    },
    {
     "name": "stderr",
     "output_type": "stream",
     "text": [
      "/var/folders/qd/x5pymktj3nzgvtn4j0s6mb5m0000gn/T/ipykernel_45224/1232130936.py:4: SettingWithCopyWarning: \n",
      "A value is trying to be set on a copy of a slice from a DataFrame.\n",
      "Try using .loc[row_indexer,col_indexer] = value instead\n",
      "\n",
      "See the caveats in the documentation: https://pandas.pydata.org/pandas-docs/stable/user_guide/indexing.html#returning-a-view-versus-a-copy\n",
      "  df_sub['ewma_01'] = df_sub['하차총승객수'].ewm(alpha=0.1).mean()\n",
      "/var/folders/qd/x5pymktj3nzgvtn4j0s6mb5m0000gn/T/ipykernel_45224/1232130936.py:5: SettingWithCopyWarning: \n",
      "A value is trying to be set on a copy of a slice from a DataFrame.\n",
      "Try using .loc[row_indexer,col_indexer] = value instead\n",
      "\n",
      "See the caveats in the documentation: https://pandas.pydata.org/pandas-docs/stable/user_guide/indexing.html#returning-a-view-versus-a-copy\n",
      "  df_sub['ewma_09'] = df_sub['하차총승객수'].ewm(alpha=0.9).mean()\n"
     ]
    }
   ],
   "source": [
    "# Q2\n",
    "df = pd.read_csv('seoul_subway.csv')\n",
    "df_sub = df.loc[(df['노선명']=='6호선') & (df['역명']=='이태원'),:]\n",
    "df_sub['ewma_01'] = df_sub['하차총승객수'].ewm(alpha=0.1).mean()\n",
    "df_sub['ewma_09'] = df_sub['하차총승객수'].ewm(alpha=0.9).mean()\n",
    "\n",
    "result_1 = df_sub.loc[df_sub['사용일자']==20201130, 'ewma_01']\n",
    "result_9 = df_sub.loc[df_sub['사용일자']==20201130, 'ewma_09']\n",
    "print((result_1 - result_9).abs())"
   ]
  },
  {
   "cell_type": "code",
   "execution_count": 67,
   "id": "a581d5c5",
   "metadata": {},
   "outputs": [
    {
     "name": "stderr",
     "output_type": "stream",
     "text": [
      "/var/folders/qd/x5pymktj3nzgvtn4j0s6mb5m0000gn/T/ipykernel_45224/4120734275.py:4: SettingWithCopyWarning: \n",
      "A value is trying to be set on a copy of a slice from a DataFrame.\n",
      "Try using .loc[row_indexer,col_indexer] = value instead\n",
      "\n",
      "See the caveats in the documentation: https://pandas.pydata.org/pandas-docs/stable/user_guide/indexing.html#returning-a-view-versus-a-copy\n",
      "  df_sub['사용일자'] = pd.to_datetime(df_sub['사용일자'], format='%Y%m%d')\n"
     ]
    },
    {
     "data": {
      "text/plain": [
       "사용일자\n",
       "2019-12-01    32993.000000\n",
       "2019-12-02    33074.857143\n",
       "2019-12-03    33156.714286\n",
       "2019-12-04    33238.571429\n",
       "2019-12-05    33320.428571\n",
       "                  ...     \n",
       "2020-11-26    23306.571429\n",
       "2020-11-27    22918.285714\n",
       "2020-11-28    22202.571429\n",
       "2020-11-29    21650.571429\n",
       "2020-11-30    21098.571429\n",
       "Name: trend, Length: 366, dtype: float64"
      ]
     },
     "execution_count": 67,
     "metadata": {},
     "output_type": "execute_result"
    }
   ],
   "source": [
    "# Q3\n",
    "df = pd.read_csv('seoul_subway.csv')\n",
    "df_sub = df.loc[(df['노선명']=='3호선') & (df['역명']=='신사'),:]\n",
    "df_sub['사용일자'] = pd.to_datetime(df_sub['사용일자'], format='%Y%m%d')\n",
    "df_sub = df_sub.set_index('사용일자')\n",
    "\n",
    "result = seasonal_decompose(df_sub['승차총승객수'], extrapolate_trend=1)\n",
    "result.trend"
   ]
  },
  {
   "cell_type": "markdown",
   "id": "9e53b9e2",
   "metadata": {},
   "source": [
    "## 상관분석"
   ]
  },
  {
   "cell_type": "code",
   "execution_count": 7,
   "id": "203e1a4f",
   "metadata": {},
   "outputs": [],
   "source": [
    "from scipy.stats import pearsonr, spearmanr, kendalltau"
   ]
  },
  {
   "cell_type": "code",
   "execution_count": 78,
   "id": "20bba91b",
   "metadata": {},
   "outputs": [
    {
     "data": {
      "text/plain": [
       "-0.35"
      ]
     },
     "execution_count": 78,
     "metadata": {},
     "output_type": "execute_result"
    }
   ],
   "source": [
    "# Q1\n",
    "df = pd.read_csv('bike.csv')\n",
    "round(df[['temp', 'atemp', 'humidity', 'casual']].corr().min().min(), 2)"
   ]
  },
  {
   "cell_type": "code",
   "execution_count": 94,
   "id": "c9284d13",
   "metadata": {},
   "outputs": [
    {
     "data": {
      "text/html": [
       "<div>\n",
       "<style scoped>\n",
       "    .dataframe tbody tr th:only-of-type {\n",
       "        vertical-align: middle;\n",
       "    }\n",
       "\n",
       "    .dataframe tbody tr th {\n",
       "        vertical-align: top;\n",
       "    }\n",
       "\n",
       "    .dataframe thead th {\n",
       "        text-align: right;\n",
       "    }\n",
       "</style>\n",
       "<table border=\"1\" class=\"dataframe\">\n",
       "  <thead>\n",
       "    <tr style=\"text-align: right;\">\n",
       "      <th></th>\n",
       "      <th></th>\n",
       "      <th>atemp</th>\n",
       "      <th>casual</th>\n",
       "    </tr>\n",
       "    <tr>\n",
       "      <th>season</th>\n",
       "      <th></th>\n",
       "      <th></th>\n",
       "      <th></th>\n",
       "    </tr>\n",
       "  </thead>\n",
       "  <tbody>\n",
       "    <tr>\n",
       "      <th rowspan=\"2\" valign=\"top\">1</th>\n",
       "      <th>atemp</th>\n",
       "      <td>1.000</td>\n",
       "      <td>0.478</td>\n",
       "    </tr>\n",
       "    <tr>\n",
       "      <th>casual</th>\n",
       "      <td>0.478</td>\n",
       "      <td>1.000</td>\n",
       "    </tr>\n",
       "    <tr>\n",
       "      <th rowspan=\"2\" valign=\"top\">2</th>\n",
       "      <th>atemp</th>\n",
       "      <td>1.000</td>\n",
       "      <td>0.378</td>\n",
       "    </tr>\n",
       "    <tr>\n",
       "      <th>casual</th>\n",
       "      <td>0.378</td>\n",
       "      <td>1.000</td>\n",
       "    </tr>\n",
       "    <tr>\n",
       "      <th rowspan=\"2\" valign=\"top\">3</th>\n",
       "      <th>atemp</th>\n",
       "      <td>1.000</td>\n",
       "      <td>0.381</td>\n",
       "    </tr>\n",
       "    <tr>\n",
       "      <th>casual</th>\n",
       "      <td>0.381</td>\n",
       "      <td>1.000</td>\n",
       "    </tr>\n",
       "    <tr>\n",
       "      <th rowspan=\"2\" valign=\"top\">4</th>\n",
       "      <th>atemp</th>\n",
       "      <td>1.000</td>\n",
       "      <td>0.444</td>\n",
       "    </tr>\n",
       "    <tr>\n",
       "      <th>casual</th>\n",
       "      <td>0.444</td>\n",
       "      <td>1.000</td>\n",
       "    </tr>\n",
       "  </tbody>\n",
       "</table>\n",
       "</div>"
      ],
      "text/plain": [
       "               atemp  casual\n",
       "season                      \n",
       "1      atemp   1.000   0.478\n",
       "       casual  0.478   1.000\n",
       "2      atemp   1.000   0.378\n",
       "       casual  0.378   1.000\n",
       "3      atemp   1.000   0.381\n",
       "       casual  0.381   1.000\n",
       "4      atemp   1.000   0.444\n",
       "       casual  0.444   1.000"
      ]
     },
     "execution_count": 94,
     "metadata": {},
     "output_type": "execute_result"
    }
   ],
   "source": [
    "# Q2\n",
    "df = pd.read_csv('bike.csv')\n",
    "round(df[['season', 'atemp', 'casual']].groupby('season').corr(), 3) # 1:봄, 2:여름, 3:가을, 4:겨울"
   ]
  },
  {
   "cell_type": "code",
   "execution_count": 123,
   "id": "a3696553",
   "metadata": {},
   "outputs": [
    {
     "data": {
      "text/plain": [
       "0.025"
      ]
     },
     "execution_count": 123,
     "metadata": {},
     "output_type": "execute_result"
    }
   ],
   "source": [
    "# Q3\n",
    "df = pd.read_csv('bike.csv')\n",
    "df['is_sunny'] = (df['weather']==1) + 0\n",
    "df_corr = df[['temp', 'casual', 'is_sunny']].groupby('is_sunny').corr()\n",
    "abs(df_corr.iloc[1,0] - df_corr.iloc[3,0]).round(3)"
   ]
  },
  {
   "cell_type": "markdown",
   "id": "50e1a47c",
   "metadata": {},
   "source": [
    "## 계층적 군집분석(Hierarchical Clustering)"
   ]
  },
  {
   "cell_type": "code",
   "execution_count": 8,
   "id": "38fb4872",
   "metadata": {},
   "outputs": [],
   "source": [
    "from sklearn.cluster import AgglomerativeClustering\n",
    "from scipy.cluster.hierarchy import linkage, dendrogram\n",
    "from matplotlib import pyplot as plt"
   ]
  },
  {
   "cell_type": "code",
   "execution_count": 32,
   "id": "c2dc31a7",
   "metadata": {},
   "outputs": [
    {
     "data": {
      "text/html": [
       "<div>\n",
       "<style scoped>\n",
       "    .dataframe tbody tr th:only-of-type {\n",
       "        vertical-align: middle;\n",
       "    }\n",
       "\n",
       "    .dataframe tbody tr th {\n",
       "        vertical-align: top;\n",
       "    }\n",
       "\n",
       "    .dataframe thead th {\n",
       "        text-align: right;\n",
       "    }\n",
       "</style>\n",
       "<table border=\"1\" class=\"dataframe\">\n",
       "  <thead>\n",
       "    <tr style=\"text-align: right;\">\n",
       "      <th></th>\n",
       "      <th>cluster</th>\n",
       "      <th>Insulin</th>\n",
       "    </tr>\n",
       "  </thead>\n",
       "  <tbody>\n",
       "    <tr>\n",
       "      <th>0</th>\n",
       "      <td>0</td>\n",
       "      <td>207.018182</td>\n",
       "    </tr>\n",
       "    <tr>\n",
       "      <th>1</th>\n",
       "      <td>1</td>\n",
       "      <td>0.620779</td>\n",
       "    </tr>\n",
       "    <tr>\n",
       "      <th>2</th>\n",
       "      <td>2</td>\n",
       "      <td>548.833333</td>\n",
       "    </tr>\n",
       "    <tr>\n",
       "      <th>3</th>\n",
       "      <td>3</td>\n",
       "      <td>85.050000</td>\n",
       "    </tr>\n",
       "  </tbody>\n",
       "</table>\n",
       "</div>"
      ],
      "text/plain": [
       "   cluster     Insulin\n",
       "0        0  207.018182\n",
       "1        1    0.620779\n",
       "2        2  548.833333\n",
       "3        3   85.050000"
      ]
     },
     "execution_count": 32,
     "metadata": {},
     "output_type": "execute_result"
    }
   ],
   "source": [
    "# Q1\n",
    "df = pd.read_csv('diabetes.csv')\n",
    "model = AgglomerativeClustering(n_clusters=4).fit(df.iloc[:, :-1])\n",
    "df['cluster'] = model.labels_\n",
    "df.groupby('cluster')['Insulin'].mean().reset_index()"
   ]
  },
  {
   "cell_type": "code",
   "execution_count": 42,
   "id": "b24d0fca",
   "metadata": {},
   "outputs": [
    {
     "data": {
      "text/plain": [
       "0    44\n",
       "1    33\n",
       "3    13\n",
       "4     9\n",
       "5     6\n",
       "2     3\n",
       "Name: cluster, dtype: int64"
      ]
     },
     "execution_count": 42,
     "metadata": {},
     "output_type": "execute_result"
    }
   ],
   "source": [
    "# Q2\n",
    "df = pd.read_csv('diabetes.csv')\n",
    "df_sub = df.loc[(df['Pregnancies']==0) & (df['BMI']>0), :'Age']\n",
    "model = AgglomerativeClustering(n_clusters=6).fit(df_sub)\n",
    "df_sub['cluster'] = model.labels_\n",
    "df_sub['cluster'].value_counts()"
   ]
  },
  {
   "cell_type": "code",
   "execution_count": 62,
   "id": "bbe37a59",
   "metadata": {},
   "outputs": [
    {
     "data": {
      "text/plain": [
       "466.248496093336"
      ]
     },
     "execution_count": 62,
     "metadata": {},
     "output_type": "execute_result"
    }
   ],
   "source": [
    "# Q3\n",
    "df = pd.read_csv('diabetes.csv')\n",
    "df_sub = df.loc[(df['Pregnancies']==0) & (df['BMI']>0), :'Age']\n",
    "model = AgglomerativeClustering(n_clusters=6).fit(df_sub)\n",
    "df_sub['cluster'] = model.labels_\n",
    "\n",
    "df_cl = df_sub.groupby('cluster').mean()\n",
    "df_cl_t = df_cl.transpose()\n",
    "df_cl_t['1_2_diff'] = df_cl_t[1] - df_cl_t[2]\n",
    "((df_cl_t['1_2_diff']**2).sum())**0.5"
   ]
  },
  {
   "cell_type": "markdown",
   "id": "729af567",
   "metadata": {},
   "source": [
    "## 비계층적 군집분석(K-means Clustering)"
   ]
  },
  {
   "cell_type": "code",
   "execution_count": 9,
   "id": "28e530b3",
   "metadata": {},
   "outputs": [],
   "source": [
    "from sklearn.cluster import KMeans\n",
    "from sklearn.preprocessing import MinMaxScaler, StandardScaler"
   ]
  },
  {
   "cell_type": "code",
   "execution_count": 96,
   "id": "0e01eaa5",
   "metadata": {},
   "outputs": [
    {
     "name": "stderr",
     "output_type": "stream",
     "text": [
      "/var/folders/qd/x5pymktj3nzgvtn4j0s6mb5m0000gn/T/ipykernel_68810/3068553311.py:5: SettingWithCopyWarning: \n",
      "A value is trying to be set on a copy of a slice from a DataFrame.\n",
      "Try using .loc[row_indexer,col_indexer] = value instead\n",
      "\n",
      "See the caveats in the documentation: https://pandas.pydata.org/pandas-docs/stable/user_guide/indexing.html#returning-a-view-versus-a-copy\n",
      "  df_sub['cluster'] = model.labels_\n"
     ]
    },
    {
     "data": {
      "text/plain": [
       "0    407\n",
       "2    212\n",
       "3    114\n",
       "1     24\n",
       "Name: cluster, dtype: int64"
      ]
     },
     "execution_count": 96,
     "metadata": {},
     "output_type": "execute_result"
    }
   ],
   "source": [
    "# Q1\n",
    "df = pd.read_csv('diabetes.csv')\n",
    "df_sub = df.loc[df['BMI']!=0, :]\n",
    "model = KMeans(n_clusters=4, random_state=123).fit(df_sub)\n",
    "df_sub['cluster'] = model.labels_\n",
    "df_sub['cluster'].value_counts()"
   ]
  },
  {
   "cell_type": "code",
   "execution_count": 97,
   "id": "bf2deff7",
   "metadata": {},
   "outputs": [
    {
     "data": {
      "text/plain": [
       "cluster\n",
       "0      4.103194\n",
       "1    509.166667\n",
       "2    102.674528\n",
       "3    224.035088\n",
       "Name: Insulin, dtype: float64"
      ]
     },
     "execution_count": 97,
     "metadata": {},
     "output_type": "execute_result"
    }
   ],
   "source": [
    "df_sub.groupby('cluster')['Insulin'].mean()"
   ]
  },
  {
   "cell_type": "code",
   "execution_count": 108,
   "id": "80161cf1",
   "metadata": {},
   "outputs": [
    {
     "name": "stderr",
     "output_type": "stream",
     "text": [
      "/var/folders/qd/x5pymktj3nzgvtn4j0s6mb5m0000gn/T/ipykernel_68810/544613645.py:10: SettingWithCopyWarning: \n",
      "A value is trying to be set on a copy of a slice from a DataFrame.\n",
      "Try using .loc[row_indexer,col_indexer] = value instead\n",
      "\n",
      "See the caveats in the documentation: https://pandas.pydata.org/pandas-docs/stable/user_guide/indexing.html#returning-a-view-versus-a-copy\n",
      "  df_sub['cluster'] = model.labels_\n"
     ]
    },
    {
     "data": {
      "text/plain": [
       "0    361\n",
       "1    135\n",
       "2    131\n",
       "3    130\n",
       "Name: cluster, dtype: int64"
      ]
     },
     "execution_count": 108,
     "metadata": {},
     "output_type": "execute_result"
    }
   ],
   "source": [
    "# Q2\n",
    "df = pd.read_csv('diabetes.csv')\n",
    "df_sub = df.loc[df['BMI']!=0, :]\n",
    "\n",
    "nor_minmax = MinMaxScaler().fit(df_sub)\n",
    "nor_minmax = nor_minmax.transform(df_sub)\n",
    "df_sub_minmax = pd.DataFrame(nor_minmax, columns=df_sub.columns)\n",
    "\n",
    "model = KMeans(n_clusters=4, random_state=123).fit(df_sub_minmax)\n",
    "df_sub['cluster'] = model.labels_\n",
    "df_sub['cluster'].value_counts()"
   ]
  },
  {
   "cell_type": "code",
   "execution_count": 107,
   "id": "16c8d922",
   "metadata": {},
   "outputs": [
    {
     "data": {
      "text/plain": [
       "cluster\n",
       "0    25.667590\n",
       "1    29.977778\n",
       "2    44.297710\n",
       "3    46.753846\n",
       "Name: Age, dtype: float64"
      ]
     },
     "execution_count": 107,
     "metadata": {},
     "output_type": "execute_result"
    }
   ],
   "source": [
    "df_sub.groupby('cluster')['Age'].mean()"
   ]
  },
  {
   "cell_type": "code",
   "execution_count": 122,
   "id": "04c2493b",
   "metadata": {},
   "outputs": [
    {
     "name": "stdout",
     "output_type": "stream",
     "text": [
      "429.2441931088845\n",
      "283.40599977473795\n",
      "146.33847909815478\n"
     ]
    },
    {
     "name": "stderr",
     "output_type": "stream",
     "text": [
      "/var/folders/qd/x5pymktj3nzgvtn4j0s6mb5m0000gn/T/ipykernel_68810/3164184433.py:5: SettingWithCopyWarning: \n",
      "A value is trying to be set on a copy of a slice from a DataFrame.\n",
      "Try using .loc[row_indexer,col_indexer] = value instead\n",
      "\n",
      "See the caveats in the documentation: https://pandas.pydata.org/pandas-docs/stable/user_guide/indexing.html#returning-a-view-versus-a-copy\n",
      "  df_sub['cluster'] = model.labels_\n"
     ]
    }
   ],
   "source": [
    "# Q3\n",
    "df = pd.read_csv('diabetes.csv')\n",
    "df_sub = df.loc[df['BMI']!=0, :]\n",
    "model = KMeans(n_clusters=3, random_state=123).fit(df_sub)\n",
    "df_sub['cluster'] = model.labels_\n",
    "\n",
    "df_cl = df_sub.groupby('cluster').mean()\n",
    "df_cl = df_cl.transpose()\n",
    "\n",
    "print((((df_cl[0] - df_cl[1])**2).sum())**0.5)\n",
    "print((((df_cl[0] - df_cl[2])**2).sum())**0.5)\n",
    "print((((df_cl[1] - df_cl[2])**2).sum())**0.5)"
   ]
  },
  {
   "cell_type": "markdown",
   "id": "a423b254",
   "metadata": {},
   "source": [
    "## 단순 회귀분석(Simple Linear Regression)"
   ]
  },
  {
   "cell_type": "code",
   "execution_count": 10,
   "id": "df43931c",
   "metadata": {},
   "outputs": [],
   "source": [
    "from statsmodels.formula.api import ols\n",
    "from sklearn.model_selection import train_test_split\n",
    "from sklearn.linear_model import LinearRegression\n",
    "from sklearn.metrics import mean_absolute_error, mean_squared_error"
   ]
  },
  {
   "cell_type": "code",
   "execution_count": 155,
   "id": "fc3005d8",
   "metadata": {},
   "outputs": [
    {
     "data": {
      "text/html": [
       "<table class=\"simpletable\">\n",
       "<caption>OLS Regression Results</caption>\n",
       "<tr>\n",
       "  <th>Dep. Variable:</th>       <td>registered</td>    <th>  R-squared:         </th> <td>   0.106</td> \n",
       "</tr>\n",
       "<tr>\n",
       "  <th>Model:</th>                   <td>OLS</td>       <th>  Adj. R-squared:    </th> <td>   0.106</td> \n",
       "</tr>\n",
       "<tr>\n",
       "  <th>Method:</th>             <td>Least Squares</td>  <th>  F-statistic:       </th> <td>   902.3</td> \n",
       "</tr>\n",
       "<tr>\n",
       "  <th>Date:</th>             <td>Sun, 29 May 2022</td> <th>  Prob (F-statistic):</th> <td>1.92e-187</td>\n",
       "</tr>\n",
       "<tr>\n",
       "  <th>Time:</th>                 <td>21:14:36</td>     <th>  Log-Likelihood:    </th> <td> -48650.</td> \n",
       "</tr>\n",
       "<tr>\n",
       "  <th>No. Observations:</th>      <td>  7620</td>      <th>  AIC:               </th> <td>9.730e+04</td>\n",
       "</tr>\n",
       "<tr>\n",
       "  <th>Df Residuals:</th>          <td>  7618</td>      <th>  BIC:               </th> <td>9.732e+04</td>\n",
       "</tr>\n",
       "<tr>\n",
       "  <th>Df Model:</th>              <td>     1</td>      <th>                     </th>     <td> </td>    \n",
       "</tr>\n",
       "<tr>\n",
       "  <th>Covariance Type:</th>      <td>nonrobust</td>    <th>                     </th>     <td> </td>    \n",
       "</tr>\n",
       "</table>\n",
       "<table class=\"simpletable\">\n",
       "<tr>\n",
       "      <td></td>         <th>coef</th>     <th>std err</th>      <th>t</th>      <th>P>|t|</th>  <th>[0.025</th>    <th>0.975]</th>  \n",
       "</tr>\n",
       "<tr>\n",
       "  <th>Intercept</th> <td>   27.5151</td> <td>    4.559</td> <td>    6.036</td> <td> 0.000</td> <td>   18.579</td> <td>   36.452</td>\n",
       "</tr>\n",
       "<tr>\n",
       "  <th>temp</th>      <td>    6.3391</td> <td>    0.211</td> <td>   30.038</td> <td> 0.000</td> <td>    5.925</td> <td>    6.753</td>\n",
       "</tr>\n",
       "</table>\n",
       "<table class=\"simpletable\">\n",
       "<tr>\n",
       "  <th>Omnibus:</th>       <td>2097.525</td> <th>  Durbin-Watson:     </th> <td>   2.022</td>\n",
       "</tr>\n",
       "<tr>\n",
       "  <th>Prob(Omnibus):</th>  <td> 0.000</td>  <th>  Jarque-Bera (JB):  </th> <td>5337.402</td>\n",
       "</tr>\n",
       "<tr>\n",
       "  <th>Skew:</th>           <td> 1.502</td>  <th>  Prob(JB):          </th> <td>    0.00</td>\n",
       "</tr>\n",
       "<tr>\n",
       "  <th>Kurtosis:</th>       <td> 5.790</td>  <th>  Cond. No.          </th> <td>    60.1</td>\n",
       "</tr>\n",
       "</table><br/><br/>Notes:<br/>[1] Standard Errors assume that the covariance matrix of the errors is correctly specified."
      ],
      "text/plain": [
       "<class 'statsmodels.iolib.summary.Summary'>\n",
       "\"\"\"\n",
       "                            OLS Regression Results                            \n",
       "==============================================================================\n",
       "Dep. Variable:             registered   R-squared:                       0.106\n",
       "Model:                            OLS   Adj. R-squared:                  0.106\n",
       "Method:                 Least Squares   F-statistic:                     902.3\n",
       "Date:                Sun, 29 May 2022   Prob (F-statistic):          1.92e-187\n",
       "Time:                        21:14:36   Log-Likelihood:                -48650.\n",
       "No. Observations:                7620   AIC:                         9.730e+04\n",
       "Df Residuals:                    7618   BIC:                         9.732e+04\n",
       "Df Model:                           1                                         \n",
       "Covariance Type:            nonrobust                                         \n",
       "==============================================================================\n",
       "                 coef    std err          t      P>|t|      [0.025      0.975]\n",
       "------------------------------------------------------------------------------\n",
       "Intercept     27.5151      4.559      6.036      0.000      18.579      36.452\n",
       "temp           6.3391      0.211     30.038      0.000       5.925       6.753\n",
       "==============================================================================\n",
       "Omnibus:                     2097.525   Durbin-Watson:                   2.022\n",
       "Prob(Omnibus):                  0.000   Jarque-Bera (JB):             5337.402\n",
       "Skew:                           1.502   Prob(JB):                         0.00\n",
       "Kurtosis:                       5.790   Cond. No.                         60.1\n",
       "==============================================================================\n",
       "\n",
       "Notes:\n",
       "[1] Standard Errors assume that the covariance matrix of the errors is correctly specified.\n",
       "\"\"\""
      ]
     },
     "execution_count": 155,
     "metadata": {},
     "output_type": "execute_result"
    }
   ],
   "source": [
    "# Q1\n",
    "df = pd.read_csv('bike.csv')\n",
    "df_train, df_test = train_test_split(df, train_size=0.7, random_state=123)\n",
    "model = ols('registered~temp', df_train).fit()\n",
    "model.summary()"
   ]
  },
  {
   "cell_type": "code",
   "execution_count": 156,
   "id": "d08d4a4d",
   "metadata": {},
   "outputs": [
    {
     "data": {
      "text/plain": [
       "44.5"
      ]
     },
     "execution_count": 156,
     "metadata": {},
     "output_type": "execute_result"
    }
   ],
   "source": [
    "# Q2\n",
    "df = pd.read_csv('bike.csv')\n",
    "df_train, df_test = train_test_split(df, train_size=0.7, random_state=123)\n",
    "model = ols('casual~atemp', df_train).fit()\n",
    "pred = model.predict(df_test)\n",
    "(mean_squared_error(y_true=df_test['casual'], y_pred=pred)**0.5).round(1)"
   ]
  },
  {
   "cell_type": "code",
   "execution_count": 169,
   "id": "f68fb222",
   "metadata": {},
   "outputs": [
    {
     "data": {
      "text/plain": [
       "8.6"
      ]
     },
     "execution_count": 169,
     "metadata": {},
     "output_type": "execute_result"
    }
   ],
   "source": [
    "# Q3\n",
    "df = pd.read_csv('bike.csv')\n",
    "\n",
    "# 여름\n",
    "df_2 = df[df['season']==2]\n",
    "df_train_2, df_test_2 = train_test_split(df_2, train_size=0.7, random_state=123)\n",
    "model_2 = ols('casual~atemp', df_train_2).fit()\n",
    "pred_2 = model.predict(df_test_2)\n",
    "rmse_2 = mean_squared_error(y_true=df_test_2['casual'], y_pred=pred_2)**0.5\n",
    "\n",
    "# 겨울\n",
    "df_4 = df[df['season']==4]\n",
    "df_train_4, df_test_4 = train_test_split(df_4, train_size=0.7, random_state=123)\n",
    "model_4 = ols('casual~atemp', df_train_4).fit()\n",
    "pred_4 = model.predict(df_test_4)\n",
    "rmse_4 = mean_squared_error(y_true=df_test_4['casual'], y_pred=pred_4)**0.5\n",
    "\n",
    "# 두 계절의 RMSE 차이\n",
    "abs(rmse_2 - rmse_4).round(1)"
   ]
  },
  {
   "cell_type": "markdown",
   "id": "0bff4a59",
   "metadata": {},
   "source": [
    "## 다중 회귀분석(Multiple Linear Regression)"
   ]
  },
  {
   "cell_type": "code",
   "execution_count": 11,
   "id": "a94753d3",
   "metadata": {},
   "outputs": [],
   "source": [
    "from patsy import dmatrices\n",
    "from statsmodels.stats.outliers_influence import variance_inflation_factor as vif"
   ]
  },
  {
   "cell_type": "code",
   "execution_count": 206,
   "id": "378127b1",
   "metadata": {},
   "outputs": [
    {
     "data": {
      "text/html": [
       "<div>\n",
       "<style scoped>\n",
       "    .dataframe tbody tr th:only-of-type {\n",
       "        vertical-align: middle;\n",
       "    }\n",
       "\n",
       "    .dataframe tbody tr th {\n",
       "        vertical-align: top;\n",
       "    }\n",
       "\n",
       "    .dataframe thead th {\n",
       "        text-align: right;\n",
       "    }\n",
       "</style>\n",
       "<table border=\"1\" class=\"dataframe\">\n",
       "  <thead>\n",
       "    <tr style=\"text-align: right;\">\n",
       "      <th></th>\n",
       "      <th>colnames</th>\n",
       "      <th>VIF</th>\n",
       "    </tr>\n",
       "  </thead>\n",
       "  <tbody>\n",
       "    <tr>\n",
       "      <th>0</th>\n",
       "      <td>Intercept</td>\n",
       "      <td>4821.696350</td>\n",
       "    </tr>\n",
       "    <tr>\n",
       "      <th>1</th>\n",
       "      <td>carat</td>\n",
       "      <td>21.602712</td>\n",
       "    </tr>\n",
       "    <tr>\n",
       "      <th>2</th>\n",
       "      <td>depth</td>\n",
       "      <td>1.496590</td>\n",
       "    </tr>\n",
       "    <tr>\n",
       "      <th>3</th>\n",
       "      <td>table</td>\n",
       "      <td>1.143225</td>\n",
       "    </tr>\n",
       "    <tr>\n",
       "      <th>4</th>\n",
       "      <td>x</td>\n",
       "      <td>56.187704</td>\n",
       "    </tr>\n",
       "    <tr>\n",
       "      <th>5</th>\n",
       "      <td>y</td>\n",
       "      <td>20.454295</td>\n",
       "    </tr>\n",
       "    <tr>\n",
       "      <th>6</th>\n",
       "      <td>z</td>\n",
       "      <td>23.530049</td>\n",
       "    </tr>\n",
       "  </tbody>\n",
       "</table>\n",
       "</div>"
      ],
      "text/plain": [
       "    colnames          VIF\n",
       "0  Intercept  4821.696350\n",
       "1      carat    21.602712\n",
       "2      depth     1.496590\n",
       "3      table     1.143225\n",
       "4          x    56.187704\n",
       "5          y    20.454295\n",
       "6          z    23.530049"
      ]
     },
     "execution_count": 206,
     "metadata": {},
     "output_type": "execute_result"
    }
   ],
   "source": [
    "# Q1\n",
    "df = pd.read_csv('diamonds.csv')\n",
    "df = df.iloc[:, [6, 0, 4, 5, 7, 8, 9]]\n",
    "\n",
    "formula = 'price ~ ' + '+'.join(df.columns[1:])\n",
    "y, X = dmatrices(formula, df, return_type='dataframe')\n",
    "\n",
    "df_vif = pd.DataFrame()\n",
    "df_vif['colnames'] = X.columns\n",
    "df_vif['VIF'] = [vif(X.values, i) for i in range(len(X.columns))]\n",
    "df_vif"
   ]
  },
  {
   "cell_type": "code",
   "execution_count": 226,
   "id": "8552d4a4",
   "metadata": {},
   "outputs": [
    {
     "data": {
      "text/plain": [
       "0    5681.0\n",
       "dtype: float64"
      ]
     },
     "execution_count": 226,
     "metadata": {},
     "output_type": "execute_result"
    }
   ],
   "source": [
    "# Q2\n",
    "df = pd.read_csv('diamonds.csv')\n",
    "formula = 'price ~ carat + depth'\n",
    "model = ols(formula, df).fit()\n",
    "df_test = pd.DataFrame({'carat':[1], 'depth':[60], 'table':[55]})\n",
    "model.predict(df_test).round()"
   ]
  },
  {
   "cell_type": "code",
   "execution_count": 227,
   "id": "d620094c",
   "metadata": {},
   "outputs": [
    {
     "data": {
      "text/plain": [
       "0    6885.0\n",
       "dtype: float64"
      ]
     },
     "execution_count": 227,
     "metadata": {},
     "output_type": "execute_result"
    }
   ],
   "source": [
    "# Q3\n",
    "df = pd.read_csv('diamonds.csv')\n",
    "formula = 'price ~ carat + C(color) + depth'\n",
    "model = ols(formula, df).fit()\n",
    "df_test = pd.DataFrame({'carat':[1], 'depth':[50], 'color':['E']})\n",
    "model.predict(df_test).round()"
   ]
  },
  {
   "cell_type": "markdown",
   "id": "3bce40cf",
   "metadata": {},
   "source": [
    "## 분류: 로지스틱 회귀분석(Logistic Regression)"
   ]
  },
  {
   "cell_type": "code",
   "execution_count": 12,
   "id": "e95cdd49",
   "metadata": {},
   "outputs": [],
   "source": [
    "from statsmodels.api import Logit\n",
    "from sklearn.linear_model import LogisticRegression\n",
    "from sklearn.metrics import roc_auc_score, accuracy_score, precision_score, recall_score, f1_score"
   ]
  },
  {
   "cell_type": "code",
   "execution_count": 245,
   "id": "83be1daa",
   "metadata": {},
   "outputs": [
    {
     "name": "stdout",
     "output_type": "stream",
     "text": [
      "Optimization terminated successfully.\n",
      "         Current function value: 0.626579\n",
      "         Iterations 5\n"
     ]
    },
    {
     "data": {
      "text/plain": [
       "0.7"
      ]
     },
     "execution_count": 245,
     "metadata": {},
     "output_type": "execute_result"
    }
   ],
   "source": [
    "# Q1\n",
    "df = pd.read_csv('diabetes.csv')\n",
    "df_train, df_test = train_test_split(df, train_size=0.8, random_state=123)\n",
    "\n",
    "model = Logit(endog=df_train['Outcome'],\n",
    "              exog=df_train.loc[:, ['BloodPressure', 'Glucose', 'BMI', 'Insulin']]).fit()\n",
    "\n",
    "pred = model.predict(df_test.loc[:, ['BloodPressure', 'Glucose', 'BMI', 'Insulin']])\n",
    "pred_class = (pred>0.5) + 0\n",
    "\n",
    "accuracy_score(y_pred=pred_class, y_true=df_test['Outcome']).round(2)"
   ]
  },
  {
   "cell_type": "code",
   "execution_count": 252,
   "id": "779a2f22",
   "metadata": {},
   "outputs": [
    {
     "name": "stdout",
     "output_type": "stream",
     "text": [
      "Optimization terminated successfully.\n",
      "         Current function value: 0.656276\n",
      "         Iterations 4\n"
     ]
    },
    {
     "data": {
      "text/plain": [
       "Glucose    1.01\n",
       "BMI        0.96\n",
       "Age        0.99\n",
       "dtype: float64"
      ]
     },
     "execution_count": 252,
     "metadata": {},
     "output_type": "execute_result"
    }
   ],
   "source": [
    "# Q2\n",
    "df = pd.read_csv('diabetes.csv')\n",
    "\n",
    "model = Logit(endog=df['Outcome'],\n",
    "             exog=df.loc[:, ['Glucose', 'BMI', 'Age']]).fit()\n",
    "\n",
    "np.exp(model.params).round(2) # odds ratio"
   ]
  },
  {
   "cell_type": "code",
   "execution_count": 257,
   "id": "1333f4be",
   "metadata": {
    "scrolled": true
   },
   "outputs": [
    {
     "name": "stdout",
     "output_type": "stream",
     "text": [
      "Optimization terminated successfully.\n",
      "         Current function value: 0.656276\n",
      "         Iterations 4\n"
     ]
    },
    {
     "data": {
      "text/plain": [
       "0.54"
      ]
     },
     "execution_count": 257,
     "metadata": {},
     "output_type": "execute_result"
    }
   ],
   "source": [
    "# Q3\n",
    "df = pd.read_csv('diabetes.csv')\n",
    "\n",
    "model = Logit(endog=df['Outcome'],\n",
    "             exog=df.loc[:, ['Glucose', 'BMI', 'Age']]).fit()\n",
    "\n",
    "pred = model.predict(df.loc[:, ['Glucose', 'BMI', 'Age']])\n",
    "\n",
    "roc_auc_score(y_true=df['Outcome'], y_score=pred).round(2)"
   ]
  },
  {
   "cell_type": "markdown",
   "id": "c38f8510",
   "metadata": {},
   "source": [
    "## 분류: 나이브 베이즈(Naïve Bayes)"
   ]
  },
  {
   "cell_type": "code",
   "execution_count": 65,
   "id": "44b358b6",
   "metadata": {},
   "outputs": [],
   "source": [
    "from sklearn.naive_bayes import GaussianNB\n",
    "from sklearn.metrics import accuracy_score\n",
    "from sklearn.model_selection import train_test_split\n",
    "from sklearn.linear_model import LogisticRegression"
   ]
  },
  {
   "cell_type": "code",
   "execution_count": 66,
   "id": "e8ed9e74",
   "metadata": {},
   "outputs": [
    {
     "data": {
      "text/plain": [
       "0    0.648613\n",
       "1    0.351387\n",
       "Name: Outcome, dtype: float64"
      ]
     },
     "execution_count": 66,
     "metadata": {},
     "output_type": "execute_result"
    }
   ],
   "source": [
    "# Q1\n",
    "df = pd.read_csv('diabetes.csv')\n",
    "df_sub = df.loc[df['BMI']>0, ]\n",
    "\n",
    "df_sub['Outcome'].value_counts(normalize=True)"
   ]
  },
  {
   "cell_type": "code",
   "execution_count": 67,
   "id": "e4612ee0",
   "metadata": {},
   "outputs": [
    {
     "data": {
      "text/plain": [
       "0.76"
      ]
     },
     "execution_count": 67,
     "metadata": {},
     "output_type": "execute_result"
    }
   ],
   "source": [
    "# Q2\n",
    "df = pd.read_csv('diabetes.csv')\n",
    "\n",
    "model = GaussianNB().fit(X = df[['Glucose', 'BloodPressure', 'Age']],\n",
    "                         y = df['Outcome'])\n",
    "\n",
    "pred = model.predict_proba(X = df[['Glucose', 'BloodPressure', 'Age']])\n",
    "pred = pred[:, 1]\n",
    "pred_class = (pred>0.5) + 0\n",
    "\n",
    "accuracy_score(y_pred = pred_class, y_true= df['Outcome']).round(2)"
   ]
  },
  {
   "cell_type": "code",
   "execution_count": 83,
   "id": "d3ba9a4f",
   "metadata": {},
   "outputs": [
    {
     "name": "stdout",
     "output_type": "stream",
     "text": [
      "나이브 베이즈 모델의 정확도는 0.8\n",
      "로지스틱 회귀 모델의 정확도는 0.83\n"
     ]
    }
   ],
   "source": [
    "# Q3\n",
    "df = pd.read_csv('diabetes.csv')\n",
    "df['is_preg'] = (df['Pregnancies']>0) + 0\n",
    "df['gen'] = (df['Age']//10)*10\n",
    "df = df.loc[df['BMI']>0, ]\n",
    "df_train, df_test = train_test_split(df, train_size=0.8, random_state=123)\n",
    "\n",
    "# 나이브 베이즈\n",
    "model_nb = GaussianNB().fit(X = df_train[['is_preg', 'gen', 'BMI', 'Glucose']],\n",
    "                            y = df_train['Outcome'])\n",
    "pred_nb = model_nb.predict_proba(df_test[['is_preg', 'gen', 'BMI', 'Glucose']])\n",
    "pred_nb = pred_nb[:, 1]\n",
    "pred_class_nb = (pred_nb>0.5) + 0\n",
    "print('나이브 베이즈 모델의 정확도는', accuracy_score(y_pred=pred_class_nb, y_true=df_test['Outcome']).round(2))\n",
    "\n",
    "# 로지스틱 회귀\n",
    "model_logistic = LogisticRegression().fit(X = df_train[['is_preg', 'gen', 'BMI', 'Glucose']],\n",
    "                                          y = df_train['Outcome'])\n",
    "pred_logistic = model_logistic.predict(df_test[['is_preg', 'gen', 'BMI', 'Glucose']])\n",
    "print('로지스틱 회귀 모델의 정확도는', accuracy_score(y_pred=pred_logistic, y_true=df_test['Outcome']).round(2))"
   ]
  },
  {
   "cell_type": "markdown",
   "id": "8b0f4c92",
   "metadata": {},
   "source": [
    "## KNN(K-Nearest Neighbor)"
   ]
  },
  {
   "cell_type": "code",
   "execution_count": 38,
   "id": "dbe4ce63",
   "metadata": {},
   "outputs": [],
   "source": [
    "from sklearn.neighbors import KNeighborsClassifier, KNeighborsRegressor\n",
    "from sklearn.model_selection import train_test_split\n",
    "from sklearn.metrics import accuracy_score, mean_squared_error"
   ]
  },
  {
   "cell_type": "code",
   "execution_count": 39,
   "id": "08b7ce5b",
   "metadata": {},
   "outputs": [
    {
     "data": {
      "text/plain": [
       "0.73"
      ]
     },
     "execution_count": 39,
     "metadata": {},
     "output_type": "execute_result"
    }
   ],
   "source": [
    "# Q1\n",
    "df = pd.read_csv('diabetes.csv')\n",
    "df_train, df_test = train_test_split(df, train_size=0.7, random_state=123)\n",
    "\n",
    "model = KNeighborsClassifier()\n",
    "model.fit(X = df_train[['Pregnancies', 'Glucose', 'BloodPressure']],\n",
    "          y = df_train['Outcome'])\n",
    "\n",
    "pred = model.predict(df_test[['Pregnancies', 'Glucose', 'BloodPressure']])\n",
    "accuracy_score(y_pred = pred, y_true = df_test['Outcome']).round(2)"
   ]
  },
  {
   "cell_type": "code",
   "execution_count": 40,
   "id": "6fbdd074",
   "metadata": {},
   "outputs": [
    {
     "data": {
      "text/html": [
       "<div>\n",
       "<style scoped>\n",
       "    .dataframe tbody tr th:only-of-type {\n",
       "        vertical-align: middle;\n",
       "    }\n",
       "\n",
       "    .dataframe tbody tr th {\n",
       "        vertical-align: top;\n",
       "    }\n",
       "\n",
       "    .dataframe thead th {\n",
       "        text-align: right;\n",
       "    }\n",
       "</style>\n",
       "<table border=\"1\" class=\"dataframe\">\n",
       "  <thead>\n",
       "    <tr style=\"text-align: right;\">\n",
       "      <th></th>\n",
       "      <th>k</th>\n",
       "      <th>acc</th>\n",
       "    </tr>\n",
       "  </thead>\n",
       "  <tbody>\n",
       "    <tr>\n",
       "      <th>0</th>\n",
       "      <td>3</td>\n",
       "      <td>0.71</td>\n",
       "    </tr>\n",
       "    <tr>\n",
       "      <th>1</th>\n",
       "      <td>5</td>\n",
       "      <td>0.73</td>\n",
       "    </tr>\n",
       "    <tr>\n",
       "      <th>2</th>\n",
       "      <td>10</td>\n",
       "      <td>0.78</td>\n",
       "    </tr>\n",
       "    <tr>\n",
       "      <th>3</th>\n",
       "      <td>20</td>\n",
       "      <td>0.76</td>\n",
       "    </tr>\n",
       "  </tbody>\n",
       "</table>\n",
       "</div>"
      ],
      "text/plain": [
       "    k   acc\n",
       "0   3  0.71\n",
       "1   5  0.73\n",
       "2  10  0.78\n",
       "3  20  0.76"
      ]
     },
     "execution_count": 40,
     "metadata": {},
     "output_type": "execute_result"
    }
   ],
   "source": [
    "# Q2\n",
    "df = pd.read_csv('diabetes.csv')\n",
    "df['is_preg'] = (df['Pregnancies']>0) + 0\n",
    "df_train, df_test = train_test_split(df, train_size=0.8, random_state=123)\n",
    "\n",
    "x_cols = ['is_preg', 'Glucose', 'BloodPressure', 'Insulin', 'BMI']\n",
    "k_list = [3, 5, 10, 20]\n",
    "acc_list = []\n",
    "for k in k_list:\n",
    "    model = KNeighborsClassifier(n_neighbors=k)\n",
    "    model.fit(X = df_train[x_cols],\n",
    "              y = df_train['Outcome'])\n",
    "    pred = model.predict(df_test[x_cols])\n",
    "    acc = accuracy_score(y_pred = pred, y_true = df_test['Outcome']).round(2)\n",
    "    acc_list.append(acc)\n",
    "\n",
    "df_acc = pd.DataFrame({'k':k_list, 'acc':acc_list})\n",
    "df_acc"
   ]
  },
  {
   "cell_type": "code",
   "execution_count": 42,
   "id": "8a718f06",
   "metadata": {
    "scrolled": true
   },
   "outputs": [
    {
     "data": {
      "text/html": [
       "<div>\n",
       "<style scoped>\n",
       "    .dataframe tbody tr th:only-of-type {\n",
       "        vertical-align: middle;\n",
       "    }\n",
       "\n",
       "    .dataframe tbody tr th {\n",
       "        vertical-align: top;\n",
       "    }\n",
       "\n",
       "    .dataframe thead th {\n",
       "        text-align: right;\n",
       "    }\n",
       "</style>\n",
       "<table border=\"1\" class=\"dataframe\">\n",
       "  <thead>\n",
       "    <tr style=\"text-align: right;\">\n",
       "      <th></th>\n",
       "      <th>k</th>\n",
       "      <th>rmse</th>\n",
       "    </tr>\n",
       "  </thead>\n",
       "  <tbody>\n",
       "    <tr>\n",
       "      <th>0</th>\n",
       "      <td>3</td>\n",
       "      <td>8.536</td>\n",
       "    </tr>\n",
       "    <tr>\n",
       "      <th>1</th>\n",
       "      <td>5</td>\n",
       "      <td>8.715</td>\n",
       "    </tr>\n",
       "    <tr>\n",
       "      <th>2</th>\n",
       "      <td>10</td>\n",
       "      <td>8.526</td>\n",
       "    </tr>\n",
       "    <tr>\n",
       "      <th>3</th>\n",
       "      <td>20</td>\n",
       "      <td>8.491</td>\n",
       "    </tr>\n",
       "  </tbody>\n",
       "</table>\n",
       "</div>"
      ],
      "text/plain": [
       "    k   rmse\n",
       "0   3  8.536\n",
       "1   5  8.715\n",
       "2  10  8.526\n",
       "3  20  8.491"
      ]
     },
     "execution_count": 42,
     "metadata": {},
     "output_type": "execute_result"
    }
   ],
   "source": [
    "# Q3\n",
    "df = pd.read_csv('diabetes.csv')\n",
    "df['is_preg'] = (df['Pregnancies']>0) + 0\n",
    "df_train, df_test = train_test_split(df, train_size=0.8, random_state=123)\n",
    "\n",
    "x_cols = ['is_preg', 'Glucose', 'BloodPressure', 'Insulin']\n",
    "k_list = [3, 5, 10, 20]\n",
    "rmse_list = []\n",
    "for k in k_list:\n",
    "    model = KNeighborsRegressor(n_neighbors=k)\n",
    "    model.fit(X = df_train[x_cols], y = df_train['BMI'])\n",
    "    pred = model.predict(df_test[x_cols])\n",
    "    rmse = ((mean_squared_error(y_pred = pred, y_true = df_test['BMI']))**0.5).round(3)\n",
    "    rmse_list.append(rmse)\n",
    "\n",
    "df_rmse = pd.DataFrame({'k':k_list, 'rmse':rmse_list})\n",
    "df_rmse"
   ]
  },
  {
   "cell_type": "markdown",
   "id": "c434ed30",
   "metadata": {},
   "source": [
    "## 의사결정나무 모델: 분류 및 회귀나무"
   ]
  },
  {
   "cell_type": "code",
   "execution_count": 258,
   "id": "38b4e4f5",
   "metadata": {},
   "outputs": [],
   "source": [
    "from sklearn.tree import DecisionTreeClassifier, DecisionTreeRegressor"
   ]
  },
  {
   "cell_type": "code",
   "execution_count": 267,
   "id": "d7c77922",
   "metadata": {},
   "outputs": [
    {
     "data": {
      "text/plain": [
       "0.63"
      ]
     },
     "execution_count": 267,
     "metadata": {},
     "output_type": "execute_result"
    }
   ],
   "source": [
    "# Q1\n",
    "df = pd.read_csv('diabetes.csv')\n",
    "df_train, df_test = train_test_split(df, train_size=0.8, random_state=123)\n",
    "\n",
    "model = DecisionTreeClassifier(random_state=123)\n",
    "model.fit(y = df_train['Outcome'],\n",
    "         X = df_train.loc[:, ['Glucose', 'BloodPressure', 'Pregnancies']])\n",
    "\n",
    "pred = model.predict(df_test.loc[:, ['Glucose', 'BloodPressure', 'Pregnancies']])\n",
    "\n",
    "accuracy_score(y_pred = pred, y_true = df_test['Outcome']).round(2)"
   ]
  },
  {
   "cell_type": "code",
   "execution_count": 272,
   "id": "3dff81b0",
   "metadata": {},
   "outputs": [
    {
     "data": {
      "text/plain": [
       "9.9"
      ]
     },
     "execution_count": 272,
     "metadata": {},
     "output_type": "execute_result"
    }
   ],
   "source": [
    "# Q2\n",
    "df = pd.read_csv('diabetes.csv')\n",
    "df_train, df_test = train_test_split(df, train_size=0.8, random_state=123)\n",
    "\n",
    "model = DecisionTreeRegressor(random_state=123)\n",
    "model.fit(y = df_train['BMI'],\n",
    "         X = df_train.loc[:, ['Glucose', 'BloodPressure', 'SkinThickness']])\n",
    "\n",
    "pred = model.predict(df_test.loc[:, ['Glucose', 'BloodPressure', 'SkinThickness']])\n",
    "\n",
    "(mean_squared_error(y_true = df_test['BMI'], y_pred = pred)**0.5).round(1)"
   ]
  },
  {
   "cell_type": "code",
   "execution_count": 281,
   "id": "95628531",
   "metadata": {},
   "outputs": [
    {
     "data": {
      "text/html": [
       "<div>\n",
       "<style scoped>\n",
       "    .dataframe tbody tr th:only-of-type {\n",
       "        vertical-align: middle;\n",
       "    }\n",
       "\n",
       "    .dataframe tbody tr th {\n",
       "        vertical-align: top;\n",
       "    }\n",
       "\n",
       "    .dataframe thead th {\n",
       "        text-align: right;\n",
       "    }\n",
       "</style>\n",
       "<table border=\"1\" class=\"dataframe\">\n",
       "  <thead>\n",
       "    <tr style=\"text-align: right;\">\n",
       "      <th></th>\n",
       "      <th>depth</th>\n",
       "      <th>accuracy</th>\n",
       "    </tr>\n",
       "  </thead>\n",
       "  <tbody>\n",
       "    <tr>\n",
       "      <th>0</th>\n",
       "      <td>3</td>\n",
       "      <td>0.77</td>\n",
       "    </tr>\n",
       "    <tr>\n",
       "      <th>1</th>\n",
       "      <td>4</td>\n",
       "      <td>0.76</td>\n",
       "    </tr>\n",
       "    <tr>\n",
       "      <th>2</th>\n",
       "      <td>5</td>\n",
       "      <td>0.76</td>\n",
       "    </tr>\n",
       "    <tr>\n",
       "      <th>3</th>\n",
       "      <td>6</td>\n",
       "      <td>0.77</td>\n",
       "    </tr>\n",
       "  </tbody>\n",
       "</table>\n",
       "</div>"
      ],
      "text/plain": [
       "   depth  accuracy\n",
       "0      3      0.77\n",
       "1      4      0.76\n",
       "2      5      0.76\n",
       "3      6      0.77"
      ]
     },
     "execution_count": 281,
     "metadata": {},
     "output_type": "execute_result"
    }
   ],
   "source": [
    "# Q3\n",
    "df = pd.read_csv('diabetes.csv')\n",
    "df_train, df_test = train_test_split(df, train_size=0.7, random_state=345)\n",
    "\n",
    "cols = ['Glucose', 'BloodPressure', 'Pregnancies', 'BMI', 'Age']\n",
    "depth_list = [3, 4, 5, 6]\n",
    "\n",
    "accs = []\n",
    "for depth in depth_list:\n",
    "    model = DecisionTreeClassifier(max_depth=depth, random_state=345)\n",
    "    model.fit(y = df_train['Outcome'],\n",
    "             X = df_train.loc[:, cols])\n",
    "    pred = model.predict(df_test.loc[:, cols])\n",
    "    accs.append(accuracy_score(y_pred=pred, y_true=df_test['Outcome']).round(2))\n",
    "\n",
    "df_acc = pd.DataFrame({'depth':depth_list, 'accuracy':accs})\n",
    "df_acc"
   ]
  },
  {
   "cell_type": "markdown",
   "id": "e70ad42c",
   "metadata": {},
   "source": [
    "## 추천: 연관성 분석(Association Rule)"
   ]
  },
  {
   "cell_type": "code",
   "execution_count": 43,
   "id": "9459551a",
   "metadata": {},
   "outputs": [
    {
     "name": "stdout",
     "output_type": "stream",
     "text": [
      "Collecting mlxtend\n",
      "  Downloading mlxtend-0.20.0-py2.py3-none-any.whl (1.3 MB)\n",
      "\u001b[K     |████████████████████████████████| 1.3 MB 10.5 MB/s eta 0:00:01     |██████████████                  | 583 kB 10.5 MB/s eta 0:00:01\n",
      "\u001b[?25hRequirement already satisfied: pandas>=0.24.2 in /Users/jeon-inseo/opt/anaconda3/lib/python3.9/site-packages (from mlxtend) (1.3.4)\n",
      "Requirement already satisfied: scikit-learn>=1.0.2 in /Users/jeon-inseo/opt/anaconda3/lib/python3.9/site-packages (from mlxtend) (1.0.2)\n",
      "Requirement already satisfied: scipy>=1.2.1 in /Users/jeon-inseo/opt/anaconda3/lib/python3.9/site-packages (from mlxtend) (1.7.1)\n",
      "Requirement already satisfied: setuptools in /Users/jeon-inseo/opt/anaconda3/lib/python3.9/site-packages (from mlxtend) (58.0.4)\n",
      "Requirement already satisfied: matplotlib>=3.0.0 in /Users/jeon-inseo/opt/anaconda3/lib/python3.9/site-packages (from mlxtend) (3.4.3)\n",
      "Requirement already satisfied: joblib>=0.13.2 in /Users/jeon-inseo/opt/anaconda3/lib/python3.9/site-packages (from mlxtend) (1.1.0)\n",
      "Requirement already satisfied: numpy>=1.16.2 in /Users/jeon-inseo/opt/anaconda3/lib/python3.9/site-packages (from mlxtend) (1.20.3)\n",
      "Requirement already satisfied: python-dateutil>=2.7 in /Users/jeon-inseo/opt/anaconda3/lib/python3.9/site-packages (from matplotlib>=3.0.0->mlxtend) (2.8.2)\n",
      "Requirement already satisfied: kiwisolver>=1.0.1 in /Users/jeon-inseo/opt/anaconda3/lib/python3.9/site-packages (from matplotlib>=3.0.0->mlxtend) (1.3.1)\n",
      "Requirement already satisfied: cycler>=0.10 in /Users/jeon-inseo/opt/anaconda3/lib/python3.9/site-packages (from matplotlib>=3.0.0->mlxtend) (0.10.0)\n",
      "Requirement already satisfied: pyparsing>=2.2.1 in /Users/jeon-inseo/opt/anaconda3/lib/python3.9/site-packages (from matplotlib>=3.0.0->mlxtend) (3.0.4)\n",
      "Requirement already satisfied: pillow>=6.2.0 in /Users/jeon-inseo/opt/anaconda3/lib/python3.9/site-packages (from matplotlib>=3.0.0->mlxtend) (8.4.0)\n",
      "Requirement already satisfied: six in /Users/jeon-inseo/opt/anaconda3/lib/python3.9/site-packages (from cycler>=0.10->matplotlib>=3.0.0->mlxtend) (1.16.0)\n",
      "Requirement already satisfied: pytz>=2017.3 in /Users/jeon-inseo/opt/anaconda3/lib/python3.9/site-packages (from pandas>=0.24.2->mlxtend) (2021.3)\n",
      "Requirement already satisfied: threadpoolctl>=2.0.0 in /Users/jeon-inseo/opt/anaconda3/lib/python3.9/site-packages (from scikit-learn>=1.0.2->mlxtend) (2.2.0)\n",
      "Installing collected packages: mlxtend\n",
      "Successfully installed mlxtend-0.20.0\n"
     ]
    }
   ],
   "source": [
    "!pip3 install mlxtend\n",
    "from mlxtend.frequent_patterns import apriori, association_rules"
   ]
  },
  {
   "cell_type": "code",
   "execution_count": 67,
   "id": "cf065d9e",
   "metadata": {},
   "outputs": [
    {
     "data": {
      "text/plain": [
       "26"
      ]
     },
     "execution_count": 67,
     "metadata": {},
     "output_type": "execute_result"
    }
   ],
   "source": [
    "# Q1\n",
    "df = pd.read_csv('association_rules_mart.csv')\n",
    "df = df.iloc[:, 1:].drop_duplicates()\n",
    "\n",
    "df['purchase'] = True\n",
    "df_pivot = pd.pivot_table(data=df, index='ID', columns='Item', values='purchase',\n",
    "                         aggfunc=max, fill_value=False)\n",
    "\n",
    "# apriori\n",
    "item_sets = apriori(df=df_pivot, min_support=0.005, use_colnames=True)\n",
    "\n",
    "# association rules\n",
    "rules = association_rules(df=item_sets, metric='confidence', min_threshold=0.005)\n",
    "rules_sub = rules[rules['support']>=0.1]\n",
    "rules_sub = rules_sub.sort_values('lift', ascending=False)\n",
    "len(rules_sub)"
   ]
  },
  {
   "cell_type": "code",
   "execution_count": 83,
   "id": "635a91b7",
   "metadata": {},
   "outputs": [
    {
     "data": {
      "text/html": [
       "<div>\n",
       "<style scoped>\n",
       "    .dataframe tbody tr th:only-of-type {\n",
       "        vertical-align: middle;\n",
       "    }\n",
       "\n",
       "    .dataframe tbody tr th {\n",
       "        vertical-align: top;\n",
       "    }\n",
       "\n",
       "    .dataframe thead th {\n",
       "        text-align: right;\n",
       "    }\n",
       "</style>\n",
       "<table border=\"1\" class=\"dataframe\">\n",
       "  <thead>\n",
       "    <tr style=\"text-align: right;\">\n",
       "      <th></th>\n",
       "      <th>antecedents</th>\n",
       "      <th>consequents</th>\n",
       "      <th>antecedent support</th>\n",
       "      <th>consequent support</th>\n",
       "      <th>support</th>\n",
       "      <th>confidence</th>\n",
       "      <th>lift</th>\n",
       "      <th>leverage</th>\n",
       "      <th>conviction</th>\n",
       "    </tr>\n",
       "  </thead>\n",
       "  <tbody>\n",
       "    <tr>\n",
       "      <th>22844</th>\n",
       "      <td>(meat)</td>\n",
       "      <td>(domestic eggs, whole milk)</td>\n",
       "      <td>0.063622</td>\n",
       "      <td>0.070292</td>\n",
       "      <td>0.010262</td>\n",
       "      <td>0.161290</td>\n",
       "      <td>2.294561</td>\n",
       "      <td>0.005789</td>\n",
       "      <td>1.108497</td>\n",
       "    </tr>\n",
       "    <tr>\n",
       "      <th>22841</th>\n",
       "      <td>(domestic eggs, whole milk)</td>\n",
       "      <td>(meat)</td>\n",
       "      <td>0.070292</td>\n",
       "      <td>0.063622</td>\n",
       "      <td>0.010262</td>\n",
       "      <td>0.145985</td>\n",
       "      <td>2.294561</td>\n",
       "      <td>0.005789</td>\n",
       "      <td>1.096442</td>\n",
       "    </tr>\n",
       "    <tr>\n",
       "      <th>22842</th>\n",
       "      <td>(meat, whole milk)</td>\n",
       "      <td>(domestic eggs)</td>\n",
       "      <td>0.034890</td>\n",
       "      <td>0.133145</td>\n",
       "      <td>0.010262</td>\n",
       "      <td>0.294118</td>\n",
       "      <td>2.208999</td>\n",
       "      <td>0.005616</td>\n",
       "      <td>1.228044</td>\n",
       "    </tr>\n",
       "    <tr>\n",
       "      <th>22843</th>\n",
       "      <td>(domestic eggs)</td>\n",
       "      <td>(meat, whole milk)</td>\n",
       "      <td>0.133145</td>\n",
       "      <td>0.034890</td>\n",
       "      <td>0.010262</td>\n",
       "      <td>0.077071</td>\n",
       "      <td>2.208999</td>\n",
       "      <td>0.005616</td>\n",
       "      <td>1.045704</td>\n",
       "    </tr>\n",
       "    <tr>\n",
       "      <th>18054</th>\n",
       "      <td>(fruit/vegetable juice, whole milk)</td>\n",
       "      <td>(chocolate)</td>\n",
       "      <td>0.062340</td>\n",
       "      <td>0.086455</td>\n",
       "      <td>0.010775</td>\n",
       "      <td>0.172840</td>\n",
       "      <td>1.999194</td>\n",
       "      <td>0.005385</td>\n",
       "      <td>1.104435</td>\n",
       "    </tr>\n",
       "  </tbody>\n",
       "</table>\n",
       "</div>"
      ],
      "text/plain": [
       "                               antecedents                  consequents  \\\n",
       "22844                               (meat)  (domestic eggs, whole milk)   \n",
       "22841          (domestic eggs, whole milk)                       (meat)   \n",
       "22842                   (meat, whole milk)              (domestic eggs)   \n",
       "22843                      (domestic eggs)           (meat, whole milk)   \n",
       "18054  (fruit/vegetable juice, whole milk)                  (chocolate)   \n",
       "\n",
       "       antecedent support  consequent support   support  confidence      lift  \\\n",
       "22844            0.063622            0.070292  0.010262    0.161290  2.294561   \n",
       "22841            0.070292            0.063622  0.010262    0.145985  2.294561   \n",
       "22842            0.034890            0.133145  0.010262    0.294118  2.208999   \n",
       "22843            0.133145            0.034890  0.010262    0.077071  2.208999   \n",
       "18054            0.062340            0.086455  0.010775    0.172840  1.999194   \n",
       "\n",
       "       leverage  conviction  \n",
       "22844  0.005789    1.108497  \n",
       "22841  0.005789    1.096442  \n",
       "22842  0.005616    1.228044  \n",
       "22843  0.005616    1.045704  \n",
       "18054  0.005385    1.104435  "
      ]
     },
     "execution_count": 83,
     "metadata": {},
     "output_type": "execute_result"
    }
   ],
   "source": [
    "# Q2\n",
    "df = pd.read_csv('association_rules_mart.csv')\n",
    "df = df.iloc[:, 1:].drop_duplicates()\n",
    "\n",
    "df['purchase'] = True\n",
    "df_pivot = pd.pivot_table(data=df, index='ID', columns='Item', values='purchase',\n",
    "                         aggfunc=max, fill_value=False)\n",
    "\n",
    "# apriori\n",
    "item_sets = apriori(df=df_pivot, min_support=0.005, use_colnames=True, max_len=3)\n",
    "\n",
    "# association rules\n",
    "rules = association_rules(df=item_sets, metric='confidence', min_threshold=0.005)\n",
    "rules_sub = rules[rules['support']>=0.01]\n",
    "rules_sub = rules_sub.sort_values('lift', ascending=False)\n",
    "rules_sub.head(5)"
   ]
  },
  {
   "cell_type": "code",
   "execution_count": 98,
   "id": "5c87df31",
   "metadata": {},
   "outputs": [
    {
     "name": "stderr",
     "output_type": "stream",
     "text": [
      "/var/folders/qd/x5pymktj3nzgvtn4j0s6mb5m0000gn/T/ipykernel_57598/582112688.py:8: SettingWithCopyWarning: \n",
      "A value is trying to be set on a copy of a slice from a DataFrame.\n",
      "Try using .loc[row_indexer,col_indexer] = value instead\n",
      "\n",
      "See the caveats in the documentation: https://pandas.pydata.org/pandas-docs/stable/user_guide/indexing.html#returning-a-view-versus-a-copy\n",
      "  df_sub['purchase'] = True\n"
     ]
    },
    {
     "data": {
      "text/html": [
       "<div>\n",
       "<style scoped>\n",
       "    .dataframe tbody tr th:only-of-type {\n",
       "        vertical-align: middle;\n",
       "    }\n",
       "\n",
       "    .dataframe tbody tr th {\n",
       "        vertical-align: top;\n",
       "    }\n",
       "\n",
       "    .dataframe thead th {\n",
       "        text-align: right;\n",
       "    }\n",
       "</style>\n",
       "<table border=\"1\" class=\"dataframe\">\n",
       "  <thead>\n",
       "    <tr style=\"text-align: right;\">\n",
       "      <th></th>\n",
       "      <th>antecedents</th>\n",
       "      <th>consequents</th>\n",
       "      <th>antecedent support</th>\n",
       "      <th>consequent support</th>\n",
       "      <th>support</th>\n",
       "      <th>confidence</th>\n",
       "      <th>lift</th>\n",
       "      <th>leverage</th>\n",
       "      <th>conviction</th>\n",
       "    </tr>\n",
       "  </thead>\n",
       "  <tbody>\n",
       "    <tr>\n",
       "      <th>41842</th>\n",
       "      <td>(other vegetables, whole milk)</td>\n",
       "      <td>(rolls/buns, yogurt)</td>\n",
       "      <td>0.192964</td>\n",
       "      <td>0.112261</td>\n",
       "      <td>0.034661</td>\n",
       "      <td>0.179625</td>\n",
       "      <td>1.600067</td>\n",
       "      <td>0.012999</td>\n",
       "      <td>1.082114</td>\n",
       "    </tr>\n",
       "    <tr>\n",
       "      <th>41843</th>\n",
       "      <td>(rolls/buns, yogurt)</td>\n",
       "      <td>(other vegetables, whole milk)</td>\n",
       "      <td>0.112261</td>\n",
       "      <td>0.192964</td>\n",
       "      <td>0.034661</td>\n",
       "      <td>0.308756</td>\n",
       "      <td>1.600067</td>\n",
       "      <td>0.012999</td>\n",
       "      <td>1.167512</td>\n",
       "    </tr>\n",
       "    <tr>\n",
       "      <th>41841</th>\n",
       "      <td>(other vegetables, yogurt)</td>\n",
       "      <td>(rolls/buns, whole milk)</td>\n",
       "      <td>0.121314</td>\n",
       "      <td>0.180031</td>\n",
       "      <td>0.034661</td>\n",
       "      <td>0.285714</td>\n",
       "      <td>1.587028</td>\n",
       "      <td>0.012821</td>\n",
       "      <td>1.147957</td>\n",
       "    </tr>\n",
       "    <tr>\n",
       "      <th>41844</th>\n",
       "      <td>(rolls/buns, whole milk)</td>\n",
       "      <td>(other vegetables, yogurt)</td>\n",
       "      <td>0.180031</td>\n",
       "      <td>0.121314</td>\n",
       "      <td>0.034661</td>\n",
       "      <td>0.192529</td>\n",
       "      <td>1.587028</td>\n",
       "      <td>0.012821</td>\n",
       "      <td>1.088195</td>\n",
       "    </tr>\n",
       "    <tr>\n",
       "      <th>41840</th>\n",
       "      <td>(other vegetables, rolls/buns)</td>\n",
       "      <td>(yogurt, whole milk)</td>\n",
       "      <td>0.147957</td>\n",
       "      <td>0.151837</td>\n",
       "      <td>0.034661</td>\n",
       "      <td>0.234266</td>\n",
       "      <td>1.542881</td>\n",
       "      <td>0.012196</td>\n",
       "      <td>1.107647</td>\n",
       "    </tr>\n",
       "  </tbody>\n",
       "</table>\n",
       "</div>"
      ],
      "text/plain": [
       "                          antecedents                     consequents  \\\n",
       "41842  (other vegetables, whole milk)            (rolls/buns, yogurt)   \n",
       "41843            (rolls/buns, yogurt)  (other vegetables, whole milk)   \n",
       "41841      (other vegetables, yogurt)        (rolls/buns, whole milk)   \n",
       "41844        (rolls/buns, whole milk)      (other vegetables, yogurt)   \n",
       "41840  (other vegetables, rolls/buns)            (yogurt, whole milk)   \n",
       "\n",
       "       antecedent support  consequent support   support  confidence      lift  \\\n",
       "41842            0.192964            0.112261  0.034661    0.179625  1.600067   \n",
       "41843            0.112261            0.192964  0.034661    0.308756  1.600067   \n",
       "41841            0.121314            0.180031  0.034661    0.285714  1.587028   \n",
       "41844            0.180031            0.121314  0.034661    0.192529  1.587028   \n",
       "41840            0.147957            0.151837  0.034661    0.234266  1.542881   \n",
       "\n",
       "       leverage  conviction  \n",
       "41842  0.012999    1.082114  \n",
       "41843  0.012999    1.167512  \n",
       "41841  0.012821    1.147957  \n",
       "41844  0.012821    1.088195  \n",
       "41840  0.012196    1.107647  "
      ]
     },
     "execution_count": 98,
     "metadata": {},
     "output_type": "execute_result"
    }
   ],
   "source": [
    "# Q3\n",
    "df = pd.read_csv('association_rules_mart.csv')\n",
    "\n",
    "df_item_cnt = df['Item'].value_counts().reset_index()\n",
    "df_item_cnt = df_item_cnt.iloc[:30, :]\n",
    "df_sub = df[df['Item'].isin(df_item_cnt['index'])]\n",
    "\n",
    "df_sub['purchase'] = True\n",
    "df_pivot = pd.pivot_table(data=df_sub, index='ID', columns='Item', values='purchase',\n",
    "                          aggfunc=max, fill_value=False)\n",
    "\n",
    "# apriori\n",
    "item_sets = apriori(df=df_pivot, min_support=0.005, use_colnames=True)\n",
    "\n",
    "# association rules\n",
    "rules = association_rules(df=item_sets, metric='confidence', min_threshold=0.005)\n",
    "rules_sub = rules[rules['support']>=0.03]\n",
    "rules_sub = rules_sub.sort_values('lift', ascending=False)\n",
    "rules_sub.head(5)"
   ]
  },
  {
   "cell_type": "markdown",
   "id": "7abc25d5",
   "metadata": {},
   "source": [
    "## 주성분 분석(PCA)"
   ]
  },
  {
   "cell_type": "code",
   "execution_count": 124,
   "id": "3c605420",
   "metadata": {},
   "outputs": [],
   "source": [
    "from sklearn.decomposition import PCA\n",
    "from statsmodels.formula.api import ols\n",
    "from sklearn.metrics import mean_squared_error"
   ]
  },
  {
   "cell_type": "code",
   "execution_count": 125,
   "id": "51013abf",
   "metadata": {},
   "outputs": [],
   "source": [
    "# Q1\n",
    "df = pd.read_csv('diamonds.csv')\n",
    "\n",
    "pca = PCA(n_components=3)\n",
    "df_pca = pca.fit_transform(df[['x', 'y', 'z']])\n",
    "df_pca = pd.DataFrame(df_pca, columns=['comp_1', 'comp_2', 'comp_3'])"
   ]
  },
  {
   "cell_type": "code",
   "execution_count": 126,
   "id": "ddd8dca9",
   "metadata": {},
   "outputs": [
    {
     "data": {
      "text/html": [
       "<div>\n",
       "<style scoped>\n",
       "    .dataframe tbody tr th:only-of-type {\n",
       "        vertical-align: middle;\n",
       "    }\n",
       "\n",
       "    .dataframe tbody tr th {\n",
       "        vertical-align: top;\n",
       "    }\n",
       "\n",
       "    .dataframe thead th {\n",
       "        text-align: right;\n",
       "    }\n",
       "</style>\n",
       "<table border=\"1\" class=\"dataframe\">\n",
       "  <thead>\n",
       "    <tr style=\"text-align: right;\">\n",
       "      <th></th>\n",
       "      <th>x</th>\n",
       "      <th>y</th>\n",
       "      <th>z</th>\n",
       "    </tr>\n",
       "  </thead>\n",
       "  <tbody>\n",
       "    <tr>\n",
       "      <th>x</th>\n",
       "      <td>1.000</td>\n",
       "      <td>0.975</td>\n",
       "      <td>0.971</td>\n",
       "    </tr>\n",
       "    <tr>\n",
       "      <th>y</th>\n",
       "      <td>0.975</td>\n",
       "      <td>1.000</td>\n",
       "      <td>0.952</td>\n",
       "    </tr>\n",
       "    <tr>\n",
       "      <th>z</th>\n",
       "      <td>0.971</td>\n",
       "      <td>0.952</td>\n",
       "      <td>1.000</td>\n",
       "    </tr>\n",
       "  </tbody>\n",
       "</table>\n",
       "</div>"
      ],
      "text/plain": [
       "       x      y      z\n",
       "x  1.000  0.975  0.971\n",
       "y  0.975  1.000  0.952\n",
       "z  0.971  0.952  1.000"
      ]
     },
     "execution_count": 126,
     "metadata": {},
     "output_type": "execute_result"
    }
   ],
   "source": [
    "df[['x', 'y', 'z']].corr().round(3)"
   ]
  },
  {
   "cell_type": "code",
   "execution_count": 127,
   "id": "50e26f2e",
   "metadata": {},
   "outputs": [
    {
     "data": {
      "text/html": [
       "<div>\n",
       "<style scoped>\n",
       "    .dataframe tbody tr th:only-of-type {\n",
       "        vertical-align: middle;\n",
       "    }\n",
       "\n",
       "    .dataframe tbody tr th {\n",
       "        vertical-align: top;\n",
       "    }\n",
       "\n",
       "    .dataframe thead th {\n",
       "        text-align: right;\n",
       "    }\n",
       "</style>\n",
       "<table border=\"1\" class=\"dataframe\">\n",
       "  <thead>\n",
       "    <tr style=\"text-align: right;\">\n",
       "      <th></th>\n",
       "      <th>comp_1</th>\n",
       "      <th>comp_2</th>\n",
       "      <th>comp_3</th>\n",
       "    </tr>\n",
       "  </thead>\n",
       "  <tbody>\n",
       "    <tr>\n",
       "      <th>comp_1</th>\n",
       "      <td>1.0</td>\n",
       "      <td>0.0</td>\n",
       "      <td>0.0</td>\n",
       "    </tr>\n",
       "    <tr>\n",
       "      <th>comp_2</th>\n",
       "      <td>0.0</td>\n",
       "      <td>1.0</td>\n",
       "      <td>0.0</td>\n",
       "    </tr>\n",
       "    <tr>\n",
       "      <th>comp_3</th>\n",
       "      <td>0.0</td>\n",
       "      <td>0.0</td>\n",
       "      <td>1.0</td>\n",
       "    </tr>\n",
       "  </tbody>\n",
       "</table>\n",
       "</div>"
      ],
      "text/plain": [
       "        comp_1  comp_2  comp_3\n",
       "comp_1     1.0     0.0     0.0\n",
       "comp_2     0.0     1.0     0.0\n",
       "comp_3     0.0     0.0     1.0"
      ]
     },
     "execution_count": 127,
     "metadata": {},
     "output_type": "execute_result"
    }
   ],
   "source": [
    "df_pca.corr().round(3)"
   ]
  },
  {
   "cell_type": "code",
   "execution_count": 128,
   "id": "c986aa36",
   "metadata": {},
   "outputs": [
    {
     "data": {
      "text/plain": [
       "0    0.541054\n",
       "1    0.821735\n",
       "2    0.994760\n",
       "3    0.998496\n",
       "4    1.000000\n",
       "dtype: float64"
      ]
     },
     "execution_count": 128,
     "metadata": {},
     "output_type": "execute_result"
    }
   ],
   "source": [
    "# Q2\n",
    "df = pd.read_csv('diamonds.csv')\n",
    "\n",
    "pca = PCA(n_components=5)\n",
    "df_pca = pca.fit_transform(df[['x', 'y', 'z', 'table', 'depth']])\n",
    "\n",
    "pd.Series(pca.explained_variance_ratio_).cumsum()"
   ]
  },
  {
   "cell_type": "code",
   "execution_count": 139,
   "id": "44603f99",
   "metadata": {},
   "outputs": [
    {
     "name": "stdout",
     "output_type": "stream",
     "text": [
      "1번 모델: 1526.0\n",
      "2번 모델: 1529.0\n"
     ]
    }
   ],
   "source": [
    "# Q3\n",
    "df = pd.read_csv('diamonds.csv')\n",
    "\n",
    "pca = PCA(n_components=1)\n",
    "df_pca = pca.fit_transform(df[['x', 'y', 'z']])\n",
    "df['comp_1'] = df_pca\n",
    "\n",
    "df_train, df_test = train_test_split(df, train_size=0.8, random_state=123)\n",
    "\n",
    "# model 1\n",
    "model_1 = ols('price ~ carat + x', df_train).fit()\n",
    "pred_1 = model_1.predict(df_test)\n",
    "rmse_1 = (mean_squared_error(y_pred=pred_1, y_true=df_test['price']))**0.5\n",
    "print('1번 모델:', rmse_1.round())\n",
    "\n",
    "# model 2\n",
    "model_2 = ols('price ~ carat + comp_1', df_train).fit()\n",
    "pred_2 = model_2.predict(df_test)\n",
    "rmse_2 = (mean_squared_error(y_pred=pred_2, y_true=df_test['price']))**0.5\n",
    "print('2번 모델:', rmse_2.round())"
   ]
  },
  {
   "cell_type": "markdown",
   "id": "b19de1b4",
   "metadata": {},
   "source": [
    "## 실전 종합 문제 1"
   ]
  },
  {
   "cell_type": "code",
   "execution_count": 50,
   "id": "8b5cdce3",
   "metadata": {},
   "outputs": [],
   "source": [
    "import pandas as pd\n",
    "from scipy.stats import ttest_ind\n",
    "from sklearn.cluster import AgglomerativeClustering"
   ]
  },
  {
   "cell_type": "code",
   "execution_count": 52,
   "id": "11a28346",
   "metadata": {},
   "outputs": [
    {
     "data": {
      "text/plain": [
       "17"
      ]
     },
     "execution_count": 52,
     "metadata": {},
     "output_type": "execute_result"
    }
   ],
   "source": [
    "# Q1\n",
    "df_2019 = pd.read_csv('Seoul_Bus_2019.csv')\n",
    "df_info = pd.read_csv('Seoul_Bus_info.csv')\n",
    "df = df_2019.merge(df_info, left_on='Line_No', right_on='Bus_no')\n",
    "df_q1 = df.copy()\n",
    "\n",
    "df_q1['total'] = df_q1.loc[:, 'H01':'H24'].sum(axis=1) # 모든 시간의 인원 합\n",
    "df_q1 = df_q1[df_q1['type'].isin(['지선', '간선'])] # 지선, 간선 버스만 추출\n",
    "\n",
    "df_q1_cnt = df_q1.groupby('Line_No')['total'].sum().reset_index()\n",
    "len(df_q1_cnt[df_q1_cnt['total']<=(1000000000/1000)])"
   ]
  },
  {
   "cell_type": "code",
   "execution_count": 60,
   "id": "c2d5a29b",
   "metadata": {},
   "outputs": [
    {
     "data": {
      "text/plain": [
       "9.5"
      ]
     },
     "execution_count": 60,
     "metadata": {},
     "output_type": "execute_result"
    }
   ],
   "source": [
    "# Q2\n",
    "df_q2 = df.copy()\n",
    "\n",
    "df_q2_gan = df_q2[df_q2['type']=='간선']\n",
    "df_q2_ji = df_q2[df_q2['type']=='지선']\n",
    "\n",
    "df_q2_gan = df_q2_gan[['Line_No', 'Station_ID']].drop_duplicates()\n",
    "df_q2_ji = df_q2_ji[['Line_No', 'Station_ID']].drop_duplicates()\n",
    "\n",
    "df_q2_gan_cnt = df_q2_gan.groupby('Line_No')['Station_ID'].nunique().reset_index()\n",
    "df_q2_ji_cnt = df_q2_ji.groupby('Line_No')['Station_ID'].nunique().reset_index()\n",
    "\n",
    "stat, p = ttest_ind(df_q2_gan_cnt['Station_ID'],\n",
    "                   df_q2_ji_cnt['Station_ID'])\n",
    "abs(stat).round(2)"
   ]
  },
  {
   "cell_type": "code",
   "execution_count": 92,
   "id": "33c274de",
   "metadata": {},
   "outputs": [
    {
     "data": {
      "text/html": [
       "<div>\n",
       "<style scoped>\n",
       "    .dataframe tbody tr th:only-of-type {\n",
       "        vertical-align: middle;\n",
       "    }\n",
       "\n",
       "    .dataframe tbody tr th {\n",
       "        vertical-align: top;\n",
       "    }\n",
       "\n",
       "    .dataframe thead th {\n",
       "        text-align: right;\n",
       "    }\n",
       "</style>\n",
       "<table border=\"1\" class=\"dataframe\">\n",
       "  <thead>\n",
       "    <tr style=\"text-align: right;\">\n",
       "      <th></th>\n",
       "      <th>Station_ID</th>\n",
       "      <th>cluster</th>\n",
       "      <th>variable</th>\n",
       "      <th>value</th>\n",
       "    </tr>\n",
       "  </thead>\n",
       "  <tbody>\n",
       "    <tr>\n",
       "      <th>0</th>\n",
       "      <td>100000006</td>\n",
       "      <td>0</td>\n",
       "      <td>H01</td>\n",
       "      <td>0.001992</td>\n",
       "    </tr>\n",
       "    <tr>\n",
       "      <th>1</th>\n",
       "      <td>100000007</td>\n",
       "      <td>0</td>\n",
       "      <td>H01</td>\n",
       "      <td>0.001446</td>\n",
       "    </tr>\n",
       "    <tr>\n",
       "      <th>2</th>\n",
       "      <td>100000008</td>\n",
       "      <td>3</td>\n",
       "      <td>H01</td>\n",
       "      <td>0.006030</td>\n",
       "    </tr>\n",
       "    <tr>\n",
       "      <th>3</th>\n",
       "      <td>100000009</td>\n",
       "      <td>3</td>\n",
       "      <td>H01</td>\n",
       "      <td>0.000000</td>\n",
       "    </tr>\n",
       "    <tr>\n",
       "      <th>4</th>\n",
       "      <td>100000010</td>\n",
       "      <td>3</td>\n",
       "      <td>H01</td>\n",
       "      <td>0.000000</td>\n",
       "    </tr>\n",
       "    <tr>\n",
       "      <th>...</th>\n",
       "      <td>...</td>\n",
       "      <td>...</td>\n",
       "      <td>...</td>\n",
       "      <td>...</td>\n",
       "    </tr>\n",
       "    <tr>\n",
       "      <th>134131</th>\n",
       "      <td>998502006</td>\n",
       "      <td>3</td>\n",
       "      <td>H24</td>\n",
       "      <td>0.000000</td>\n",
       "    </tr>\n",
       "    <tr>\n",
       "      <th>134132</th>\n",
       "      <td>998502024</td>\n",
       "      <td>3</td>\n",
       "      <td>H24</td>\n",
       "      <td>0.000000</td>\n",
       "    </tr>\n",
       "    <tr>\n",
       "      <th>134133</th>\n",
       "      <td>998502173</td>\n",
       "      <td>1</td>\n",
       "      <td>H24</td>\n",
       "      <td>0.526761</td>\n",
       "    </tr>\n",
       "    <tr>\n",
       "      <th>134134</th>\n",
       "      <td>998601159</td>\n",
       "      <td>3</td>\n",
       "      <td>H24</td>\n",
       "      <td>0.115789</td>\n",
       "    </tr>\n",
       "    <tr>\n",
       "      <th>134135</th>\n",
       "      <td>999033574</td>\n",
       "      <td>1</td>\n",
       "      <td>H24</td>\n",
       "      <td>0.777778</td>\n",
       "    </tr>\n",
       "  </tbody>\n",
       "</table>\n",
       "<p>134136 rows × 4 columns</p>\n",
       "</div>"
      ],
      "text/plain": [
       "        Station_ID  cluster variable     value\n",
       "0        100000006        0      H01  0.001992\n",
       "1        100000007        0      H01  0.001446\n",
       "2        100000008        3      H01  0.006030\n",
       "3        100000009        3      H01  0.000000\n",
       "4        100000010        3      H01  0.000000\n",
       "...            ...      ...      ...       ...\n",
       "134131   998502006        3      H24  0.000000\n",
       "134132   998502024        3      H24  0.000000\n",
       "134133   998502173        1      H24  0.526761\n",
       "134134   998601159        3      H24  0.115789\n",
       "134135   999033574        1      H24  0.777778\n",
       "\n",
       "[134136 rows x 4 columns]"
      ]
     },
     "execution_count": 92,
     "metadata": {},
     "output_type": "execute_result"
    }
   ],
   "source": [
    "# Q3\n",
    "def nor_minmax(x):\n",
    "    return (x-min(x)) / (max(x)-min(x))\n",
    "\n",
    "df_q3 = df.copy()\n",
    "df_q3 = df_q3[df_q3['type']=='지선']\n",
    "df_q3 = pd.concat([df_q3[['Year_Month', 'Station_ID']],\n",
    "                 df_q3.loc[:, 'H01':'H24']],\n",
    "                 axis=1)\n",
    "df_q3_sum = df_q3.iloc[:, 1:].groupby('Station_ID').sum().reset_index()\n",
    "df_q3_melt = df_q3_sum.melt(id_vars='Station_ID')\n",
    "df_q3_melt = df_q3_melt.sort_values(['Station_ID', 'variable'], ascending=[False, True])\n",
    "df_q3_melt['value_nor'] = df_q3_melt.groupby('Station_ID')['value'].transform(nor_minmax)\n",
    "df_q3_pivot = pd.pivot(df_q3_melt, index='Station_ID', columns='variable', values='value_nor')\n",
    "\n",
    "model = AgglomerativeClustering(n_clusters=6).fit(df_q3_pivot)\n",
    "df_q3_pivot['cluster'] = model.labels_\n",
    "df_q3_pivot = df_q3_pivot.reset_index()\n",
    "df_q3_pivot_melt = df_q3_pivot.melt(id_vars=['Station_ID', 'cluster'])\n",
    "df_q3_pivot_melt"
   ]
  },
  {
   "cell_type": "code",
   "execution_count": null,
   "id": "8046ec31",
   "metadata": {},
   "outputs": [],
   "source": []
  },
  {
   "cell_type": "markdown",
   "id": "e93bc068",
   "metadata": {},
   "source": [
    "## 실전 종합 문제 2"
   ]
  },
  {
   "cell_type": "code",
   "execution_count": null,
   "id": "5f0eebca",
   "metadata": {},
   "outputs": [],
   "source": []
  },
  {
   "cell_type": "markdown",
   "id": "386bc70f",
   "metadata": {},
   "source": [
    "## 실전 종합 문제 3"
   ]
  },
  {
   "cell_type": "code",
   "execution_count": null,
   "id": "fb102c89",
   "metadata": {},
   "outputs": [],
   "source": []
  }
 ],
 "metadata": {
  "kernelspec": {
   "display_name": "Python 3 (ipykernel)",
   "language": "python",
   "name": "python3"
  },
  "language_info": {
   "codemirror_mode": {
    "name": "ipython",
    "version": 3
   },
   "file_extension": ".py",
   "mimetype": "text/x-python",
   "name": "python",
   "nbconvert_exporter": "python",
   "pygments_lexer": "ipython3",
   "version": "3.9.7"
  }
 },
 "nbformat": 4,
 "nbformat_minor": 5
}
