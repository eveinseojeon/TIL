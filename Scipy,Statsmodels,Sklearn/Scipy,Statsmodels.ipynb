{
 "cells": [
  {
   "cell_type": "code",
   "execution_count": 2,
   "id": "e86e4438",
   "metadata": {},
   "outputs": [],
   "source": [
    "import pandas as pd\n",
    "import numpy as np"
   ]
  },
  {
   "cell_type": "markdown",
   "id": "b4c76950",
   "metadata": {},
   "source": [
    "# 모평균 비교에 관한 가설검정: t-test"
   ]
  },
  {
   "cell_type": "code",
   "execution_count": 90,
   "id": "9d625d9c",
   "metadata": {},
   "outputs": [],
   "source": [
    "from scipy.stats import ttest_1samp, ttest_rel, ttest_ind\n",
    "import math"
   ]
  },
  {
   "cell_type": "code",
   "execution_count": 56,
   "id": "e3d4a26a",
   "metadata": {},
   "outputs": [
    {
     "data": {
      "text/plain": [
       "0.002"
      ]
     },
     "execution_count": 56,
     "metadata": {},
     "output_type": "execute_result"
    }
   ],
   "source": [
    "# Q1\n",
    "df = pd.read_csv('bike.csv')\n",
    "stat, p = ttest_1samp(df['temp'], popmean=20)\n",
    "round(p, 3)"
   ]
  },
  {
   "cell_type": "code",
   "execution_count": 88,
   "id": "f4929146",
   "metadata": {},
   "outputs": [
    {
     "data": {
      "text/plain": [
       "21"
      ]
     },
     "execution_count": 88,
     "metadata": {},
     "output_type": "execute_result"
    }
   ],
   "source": [
    "# Q2\n",
    "df = pd.read_csv('bike.csv')\n",
    "df_1 = df[df['datetime'].str[:7]=='2011-01']\n",
    "stat, p = ttest_rel(df_1['casual'], df_1['registered'])\n",
    "math.trunc(abs(stat))"
   ]
  },
  {
   "cell_type": "code",
   "execution_count": 89,
   "id": "2678d21f",
   "metadata": {},
   "outputs": [
    {
     "data": {
      "text/plain": [
       "12"
      ]
     },
     "execution_count": 89,
     "metadata": {},
     "output_type": "execute_result"
    }
   ],
   "source": [
    "# Q3\n",
    "df = pd.read_csv('bike.csv')\n",
    "df['datetime'] = pd.to_datetime(df['datetime'])\n",
    "df['day'] = df['datetime'].dt.weekday\n",
    "df['weekend'] = (df['day']>=5) + 0 # 5,6이 주말\n",
    "stat, p = ttest_ind(df.loc[df['weekend']==1, 'registered'],\n",
    "                    df.loc[df['weekend']==0, 'registered'])\n",
    "math.trunc(abs(stat))"
   ]
  },
  {
   "cell_type": "markdown",
   "id": "b3457215",
   "metadata": {},
   "source": [
    "# 모평균 비교에 관한 가설검정: One way ANOVA"
   ]
  },
  {
   "cell_type": "code",
   "execution_count": 97,
   "id": "213f37ca",
   "metadata": {},
   "outputs": [],
   "source": [
    "from scipy.stats import f_oneway\n",
    "from statsmodels.formula.api import ols\n",
    "from statsmodels.stats.anova import anova_lm\n",
    "from statsmodels.stats.multicomp import pairwise_tukeyhsd"
   ]
  },
  {
   "cell_type": "code",
   "execution_count": 103,
   "id": "23ef4a80",
   "metadata": {},
   "outputs": [
    {
     "data": {
      "text/html": [
       "<div>\n",
       "<style scoped>\n",
       "    .dataframe tbody tr th:only-of-type {\n",
       "        vertical-align: middle;\n",
       "    }\n",
       "\n",
       "    .dataframe tbody tr th {\n",
       "        vertical-align: top;\n",
       "    }\n",
       "\n",
       "    .dataframe thead th {\n",
       "        text-align: right;\n",
       "    }\n",
       "</style>\n",
       "<table border=\"1\" class=\"dataframe\">\n",
       "  <thead>\n",
       "    <tr style=\"text-align: right;\">\n",
       "      <th></th>\n",
       "      <th>df</th>\n",
       "      <th>sum_sq</th>\n",
       "      <th>mean_sq</th>\n",
       "      <th>F</th>\n",
       "      <th>PR(&gt;F)</th>\n",
       "    </tr>\n",
       "  </thead>\n",
       "  <tbody>\n",
       "    <tr>\n",
       "      <th>C(season)</th>\n",
       "      <td>3.0</td>\n",
       "      <td>412885.270005</td>\n",
       "      <td>137628.423335</td>\n",
       "      <td>6040.687453</td>\n",
       "      <td>0.0</td>\n",
       "    </tr>\n",
       "    <tr>\n",
       "      <th>Residual</th>\n",
       "      <td>10882.0</td>\n",
       "      <td>247930.804947</td>\n",
       "      <td>22.783570</td>\n",
       "      <td>NaN</td>\n",
       "      <td>NaN</td>\n",
       "    </tr>\n",
       "  </tbody>\n",
       "</table>\n",
       "</div>"
      ],
      "text/plain": [
       "                df         sum_sq        mean_sq            F  PR(>F)\n",
       "C(season)      3.0  412885.270005  137628.423335  6040.687453     0.0\n",
       "Residual   10882.0  247930.804947      22.783570          NaN     NaN"
      ]
     },
     "execution_count": 103,
     "metadata": {},
     "output_type": "execute_result"
    }
   ],
   "source": [
    "# Q2\n",
    "df = pd.read_csv('bike.csv')\n",
    "lm = ols('temp~C(season)', df).fit()\n",
    "anova_lm(lm)"
   ]
  },
  {
   "cell_type": "code",
   "execution_count": 109,
   "id": "ac455412",
   "metadata": {},
   "outputs": [
    {
     "name": "stdout",
     "output_type": "stream",
     "text": [
      " Multiple Comparison of Means - Tukey HSD, FWER=0.05  \n",
      "======================================================\n",
      "group1 group2 meandiff p-adj   lower    upper   reject\n",
      "------------------------------------------------------\n",
      "     0      1   6.1979    0.9  -9.7188  22.1146  False\n",
      "     0      2    5.343    0.9 -10.5427  21.2287  False\n",
      "     0      3  12.7424 0.2132  -3.1383   28.623  False\n",
      "     0      4   6.2956    0.9  -9.6471  22.2384  False\n",
      "     0      5 -27.5063  0.001 -43.3091 -11.7036   True\n",
      "     0      6 -36.7583  0.001 -52.5734 -20.9431   True\n",
      "     1      2  -0.8549    0.9 -16.7716  15.0618  False\n",
      "     1      3   6.5445 0.8863  -9.3671  22.4561  False\n",
      "     1      4   0.0977    0.9 -15.8759  16.0713  False\n",
      "     1      5 -33.7042  0.001 -49.5381 -17.8704   True\n",
      "     1      6 -42.9562  0.001 -58.8024 -27.1099   True\n",
      "     2      3   7.3994 0.7916  -8.4813    23.28  False\n",
      "     2      4   0.9526    0.9 -14.9901  16.8954  False\n",
      "     2      5 -32.8493  0.001 -48.6521 -17.0466   True\n",
      "     2      6 -42.1013  0.001 -57.9164 -26.2861   True\n",
      "     3      4  -6.4467 0.8981 -22.3844   9.4909  False\n",
      "     3      5 -40.2487  0.001 -56.0464 -24.4511   True\n",
      "     3      6 -49.5006  0.001 -65.3107 -33.6906   True\n",
      "     4      5  -33.802  0.001 -49.6621 -17.9419   True\n",
      "     4      6 -43.0539  0.001 -58.9264 -27.1815   True\n",
      "     5      6  -9.2519 0.5798 -24.9838   6.4799  False\n",
      "------------------------------------------------------\n"
     ]
    }
   ],
   "source": [
    "# Q3\n",
    "df = pd.read_csv('bike.csv')\n",
    "df['datetime'] = pd.to_datetime(df['datetime'])\n",
    "df['day'] = df['datetime'].dt.weekday\n",
    "print(pairwise_tukeyhsd(df['registered'], df['day']))"
   ]
  },
  {
   "cell_type": "markdown",
   "id": "365f3870",
   "metadata": {},
   "source": [
    "# 모분산 비교에 관한 가설검정: 등분산 검정(F-test of equality of variances)"
   ]
  },
  {
   "cell_type": "code",
   "execution_count": 3,
   "id": "9c75caac",
   "metadata": {},
   "outputs": [],
   "source": [
    "from scipy.stats import f, bartlett, levene"
   ]
  },
  {
   "cell_type": "code",
   "execution_count": 25,
   "id": "ee00db1e",
   "metadata": {},
   "outputs": [
    {
     "name": "stdout",
     "output_type": "stream",
     "text": [
      "1.6665446172570928\n"
     ]
    }
   ],
   "source": [
    "# Q1\n",
    "df = pd.read_csv('financial_info_10k_persons.csv')\n",
    "df['trans_once'] = df['Total_trans_amt'] / df['Total_trans_cnt']\n",
    "ser_m = df.loc[df['Gender']=='M', 'trans_once']\n",
    "ser_f = df.loc[df['Gender']=='F', 'trans_once']\n",
    "F = ser_m.var() / ser_f.var() # F검정통계량\n",
    "print(F)"
   ]
  },
  {
   "cell_type": "code",
   "execution_count": 26,
   "id": "06d77701",
   "metadata": {},
   "outputs": [
    {
     "name": "stdout",
     "output_type": "stream",
     "text": [
      "0.004109245841612487\n"
     ]
    }
   ],
   "source": [
    "# Q2\n",
    "df = pd.read_csv('financial_info_10k_persons.csv')\n",
    "df['trans_once'] = df['Total_trans_amt'] / df['Total_trans_cnt']\n",
    "df['Gen'] = (df['Age']//10) * 10\n",
    "stat, p = bartlett(df.loc[df['Gen']==50, 'trans_once'],\n",
    "                   df.loc[df['Gen']==60, 'trans_once'],\n",
    "                   df.loc[df['Gen']==70, 'trans_once'])\n",
    "print(p)"
   ]
  },
  {
   "cell_type": "code",
   "execution_count": 35,
   "id": "5b5869f7",
   "metadata": {},
   "outputs": [
    {
     "name": "stdout",
     "output_type": "stream",
     "text": [
      "0.5070685402777693\n"
     ]
    }
   ],
   "source": [
    "# Q3\n",
    "df = pd.read_csv('financial_info_10k_persons.csv')\n",
    "df['trans_once'] = df['Total_trans_amt'] / df['Total_trans_cnt']\n",
    "df_sub = df.loc[(df['Dependent_cnt']==0)&(df['Gender']=='M'),:]\n",
    "stat, p = levene(df_sub.loc[df_sub['Edu_level']==df_sub['Edu_level'].unique()[0],'trans_once'],\n",
    "                 df_sub.loc[df_sub['Edu_level']==df_sub['Edu_level'].unique()[1],'trans_once'],\n",
    "                 df_sub.loc[df_sub['Edu_level']==df_sub['Edu_level'].unique()[2],'trans_once'],\n",
    "                 df_sub.loc[df_sub['Edu_level']==df_sub['Edu_level'].unique()[3],'trans_once'],\n",
    "                 df_sub.loc[df_sub['Edu_level']==df_sub['Edu_level'].unique()[4],'trans_once'],\n",
    "                 df_sub.loc[df_sub['Edu_level']==df_sub['Edu_level'].unique()[5],'trans_once'],\n",
    "                 df_sub.loc[df_sub['Edu_level']==df_sub['Edu_level'].unique()[6],'trans_once'])\n",
    "print(p)"
   ]
  },
  {
   "cell_type": "markdown",
   "id": "97b2ce81",
   "metadata": {},
   "source": [
    "# 범주형 변수 간의 독립성 검정(Chi-squared test)"
   ]
  },
  {
   "cell_type": "code",
   "execution_count": 63,
   "id": "00bad907",
   "metadata": {},
   "outputs": [],
   "source": [
    "from scipy.stats import chi2_contingency"
   ]
  },
  {
   "cell_type": "code",
   "execution_count": 64,
   "id": "e666c51d",
   "metadata": {},
   "outputs": [
    {
     "name": "stdout",
     "output_type": "stream",
     "text": [
      "0.0461\n"
     ]
    }
   ],
   "source": [
    "# Q1\n",
    "df = pd.read_csv('financial_info_10k_persons.csv')\n",
    "df_sub = df.loc[df['Edu_level']=='High School',]\n",
    "stat, p, dof, exp = chi2_contingency(pd.crosstab(df_sub['Gender'], df_sub['is_attrited']),\n",
    "                                     correction=False)\n",
    "print(round(p,4))"
   ]
  },
  {
   "cell_type": "code",
   "execution_count": 65,
   "id": "2216f69e",
   "metadata": {},
   "outputs": [
    {
     "name": "stdout",
     "output_type": "stream",
     "text": [
      "66.457\n"
     ]
    }
   ],
   "source": [
    "# Q2\n",
    "df = pd.read_csv('financial_info_10k_persons.csv')\n",
    "stat, p, dof, exp = chi2_contingency(pd.crosstab(df['Gender'], df['Card']))\n",
    "print(round(stat,3))"
   ]
  },
  {
   "cell_type": "code",
   "execution_count": 66,
   "id": "be214471",
   "metadata": {},
   "outputs": [
    {
     "data": {
      "text/plain": [
       "(210.74834292621756,\n",
       " 9.431916381955241e-48,\n",
       " 1,\n",
       " array([[4606.4112,  869.5888],\n",
       "        [3805.5888,  718.4112]]))"
      ]
     },
     "execution_count": 66,
     "metadata": {},
     "output_type": "execute_result"
    }
   ],
   "source": [
    "# Q3\n",
    "df = pd.read_csv('financial_info_10k_persons.csv')\n",
    "df['y'] = (df['Inactive_last_12m']>=3) + 0\n",
    "chi2_contingency(pd.crosstab(df['y'], df['is_attrited']))"
   ]
  },
  {
   "cell_type": "markdown",
   "id": "9e53b9e2",
   "metadata": {},
   "source": [
    "# 상관분석"
   ]
  },
  {
   "cell_type": "code",
   "execution_count": 67,
   "id": "203e1a4f",
   "metadata": {},
   "outputs": [],
   "source": [
    "from scipy.stats import pearsonr, spearmanr, kendalltau"
   ]
  },
  {
   "cell_type": "code",
   "execution_count": 78,
   "id": "20bba91b",
   "metadata": {},
   "outputs": [
    {
     "data": {
      "text/plain": [
       "-0.35"
      ]
     },
     "execution_count": 78,
     "metadata": {},
     "output_type": "execute_result"
    }
   ],
   "source": [
    "# Q1\n",
    "df = pd.read_csv('bike.csv')\n",
    "round(df[['temp', 'atemp', 'humidity', 'casual']].corr().min().min(), 2)"
   ]
  },
  {
   "cell_type": "code",
   "execution_count": 94,
   "id": "c9284d13",
   "metadata": {},
   "outputs": [
    {
     "data": {
      "text/html": [
       "<div>\n",
       "<style scoped>\n",
       "    .dataframe tbody tr th:only-of-type {\n",
       "        vertical-align: middle;\n",
       "    }\n",
       "\n",
       "    .dataframe tbody tr th {\n",
       "        vertical-align: top;\n",
       "    }\n",
       "\n",
       "    .dataframe thead th {\n",
       "        text-align: right;\n",
       "    }\n",
       "</style>\n",
       "<table border=\"1\" class=\"dataframe\">\n",
       "  <thead>\n",
       "    <tr style=\"text-align: right;\">\n",
       "      <th></th>\n",
       "      <th></th>\n",
       "      <th>atemp</th>\n",
       "      <th>casual</th>\n",
       "    </tr>\n",
       "    <tr>\n",
       "      <th>season</th>\n",
       "      <th></th>\n",
       "      <th></th>\n",
       "      <th></th>\n",
       "    </tr>\n",
       "  </thead>\n",
       "  <tbody>\n",
       "    <tr>\n",
       "      <th rowspan=\"2\" valign=\"top\">1</th>\n",
       "      <th>atemp</th>\n",
       "      <td>1.000</td>\n",
       "      <td>0.478</td>\n",
       "    </tr>\n",
       "    <tr>\n",
       "      <th>casual</th>\n",
       "      <td>0.478</td>\n",
       "      <td>1.000</td>\n",
       "    </tr>\n",
       "    <tr>\n",
       "      <th rowspan=\"2\" valign=\"top\">2</th>\n",
       "      <th>atemp</th>\n",
       "      <td>1.000</td>\n",
       "      <td>0.378</td>\n",
       "    </tr>\n",
       "    <tr>\n",
       "      <th>casual</th>\n",
       "      <td>0.378</td>\n",
       "      <td>1.000</td>\n",
       "    </tr>\n",
       "    <tr>\n",
       "      <th rowspan=\"2\" valign=\"top\">3</th>\n",
       "      <th>atemp</th>\n",
       "      <td>1.000</td>\n",
       "      <td>0.381</td>\n",
       "    </tr>\n",
       "    <tr>\n",
       "      <th>casual</th>\n",
       "      <td>0.381</td>\n",
       "      <td>1.000</td>\n",
       "    </tr>\n",
       "    <tr>\n",
       "      <th rowspan=\"2\" valign=\"top\">4</th>\n",
       "      <th>atemp</th>\n",
       "      <td>1.000</td>\n",
       "      <td>0.444</td>\n",
       "    </tr>\n",
       "    <tr>\n",
       "      <th>casual</th>\n",
       "      <td>0.444</td>\n",
       "      <td>1.000</td>\n",
       "    </tr>\n",
       "  </tbody>\n",
       "</table>\n",
       "</div>"
      ],
      "text/plain": [
       "               atemp  casual\n",
       "season                      \n",
       "1      atemp   1.000   0.478\n",
       "       casual  0.478   1.000\n",
       "2      atemp   1.000   0.378\n",
       "       casual  0.378   1.000\n",
       "3      atemp   1.000   0.381\n",
       "       casual  0.381   1.000\n",
       "4      atemp   1.000   0.444\n",
       "       casual  0.444   1.000"
      ]
     },
     "execution_count": 94,
     "metadata": {},
     "output_type": "execute_result"
    }
   ],
   "source": [
    "# Q2\n",
    "df = pd.read_csv('bike.csv')\n",
    "round(df[['season', 'atemp', 'casual']].groupby('season').corr(), 3) # 1:봄, 2:여름, 3:가을, 4:겨울"
   ]
  },
  {
   "cell_type": "code",
   "execution_count": 123,
   "id": "a3696553",
   "metadata": {},
   "outputs": [
    {
     "data": {
      "text/plain": [
       "0.025"
      ]
     },
     "execution_count": 123,
     "metadata": {},
     "output_type": "execute_result"
    }
   ],
   "source": [
    "# Q3\n",
    "df = pd.read_csv('bike.csv')\n",
    "df['is_sunny'] = (df['weather']==1) + 0\n",
    "df_corr = df[['temp', 'casual', 'is_sunny']].groupby('is_sunny').corr()\n",
    "abs(df_corr.iloc[1,0] - df_corr.iloc[3,0]).round(3)"
   ]
  },
  {
   "cell_type": "markdown",
   "id": "a423b254",
   "metadata": {},
   "source": [
    "# 단순 회귀분석(Simple Linear Regression)"
   ]
  },
  {
   "cell_type": "code",
   "execution_count": 154,
   "id": "df43931c",
   "metadata": {},
   "outputs": [],
   "source": [
    "from statsmodels.formula.api import ols\n",
    "from sklearn.model_selection import train_test_split\n",
    "from sklearn.linear_model import LinearRegression\n",
    "from sklearn.metrics import mean_absolute_error, mean_squared_error"
   ]
  },
  {
   "cell_type": "code",
   "execution_count": 155,
   "id": "fc3005d8",
   "metadata": {},
   "outputs": [
    {
     "data": {
      "text/html": [
       "<table class=\"simpletable\">\n",
       "<caption>OLS Regression Results</caption>\n",
       "<tr>\n",
       "  <th>Dep. Variable:</th>       <td>registered</td>    <th>  R-squared:         </th> <td>   0.106</td> \n",
       "</tr>\n",
       "<tr>\n",
       "  <th>Model:</th>                   <td>OLS</td>       <th>  Adj. R-squared:    </th> <td>   0.106</td> \n",
       "</tr>\n",
       "<tr>\n",
       "  <th>Method:</th>             <td>Least Squares</td>  <th>  F-statistic:       </th> <td>   902.3</td> \n",
       "</tr>\n",
       "<tr>\n",
       "  <th>Date:</th>             <td>Sun, 29 May 2022</td> <th>  Prob (F-statistic):</th> <td>1.92e-187</td>\n",
       "</tr>\n",
       "<tr>\n",
       "  <th>Time:</th>                 <td>21:14:36</td>     <th>  Log-Likelihood:    </th> <td> -48650.</td> \n",
       "</tr>\n",
       "<tr>\n",
       "  <th>No. Observations:</th>      <td>  7620</td>      <th>  AIC:               </th> <td>9.730e+04</td>\n",
       "</tr>\n",
       "<tr>\n",
       "  <th>Df Residuals:</th>          <td>  7618</td>      <th>  BIC:               </th> <td>9.732e+04</td>\n",
       "</tr>\n",
       "<tr>\n",
       "  <th>Df Model:</th>              <td>     1</td>      <th>                     </th>     <td> </td>    \n",
       "</tr>\n",
       "<tr>\n",
       "  <th>Covariance Type:</th>      <td>nonrobust</td>    <th>                     </th>     <td> </td>    \n",
       "</tr>\n",
       "</table>\n",
       "<table class=\"simpletable\">\n",
       "<tr>\n",
       "      <td></td>         <th>coef</th>     <th>std err</th>      <th>t</th>      <th>P>|t|</th>  <th>[0.025</th>    <th>0.975]</th>  \n",
       "</tr>\n",
       "<tr>\n",
       "  <th>Intercept</th> <td>   27.5151</td> <td>    4.559</td> <td>    6.036</td> <td> 0.000</td> <td>   18.579</td> <td>   36.452</td>\n",
       "</tr>\n",
       "<tr>\n",
       "  <th>temp</th>      <td>    6.3391</td> <td>    0.211</td> <td>   30.038</td> <td> 0.000</td> <td>    5.925</td> <td>    6.753</td>\n",
       "</tr>\n",
       "</table>\n",
       "<table class=\"simpletable\">\n",
       "<tr>\n",
       "  <th>Omnibus:</th>       <td>2097.525</td> <th>  Durbin-Watson:     </th> <td>   2.022</td>\n",
       "</tr>\n",
       "<tr>\n",
       "  <th>Prob(Omnibus):</th>  <td> 0.000</td>  <th>  Jarque-Bera (JB):  </th> <td>5337.402</td>\n",
       "</tr>\n",
       "<tr>\n",
       "  <th>Skew:</th>           <td> 1.502</td>  <th>  Prob(JB):          </th> <td>    0.00</td>\n",
       "</tr>\n",
       "<tr>\n",
       "  <th>Kurtosis:</th>       <td> 5.790</td>  <th>  Cond. No.          </th> <td>    60.1</td>\n",
       "</tr>\n",
       "</table><br/><br/>Notes:<br/>[1] Standard Errors assume that the covariance matrix of the errors is correctly specified."
      ],
      "text/plain": [
       "<class 'statsmodels.iolib.summary.Summary'>\n",
       "\"\"\"\n",
       "                            OLS Regression Results                            \n",
       "==============================================================================\n",
       "Dep. Variable:             registered   R-squared:                       0.106\n",
       "Model:                            OLS   Adj. R-squared:                  0.106\n",
       "Method:                 Least Squares   F-statistic:                     902.3\n",
       "Date:                Sun, 29 May 2022   Prob (F-statistic):          1.92e-187\n",
       "Time:                        21:14:36   Log-Likelihood:                -48650.\n",
       "No. Observations:                7620   AIC:                         9.730e+04\n",
       "Df Residuals:                    7618   BIC:                         9.732e+04\n",
       "Df Model:                           1                                         \n",
       "Covariance Type:            nonrobust                                         \n",
       "==============================================================================\n",
       "                 coef    std err          t      P>|t|      [0.025      0.975]\n",
       "------------------------------------------------------------------------------\n",
       "Intercept     27.5151      4.559      6.036      0.000      18.579      36.452\n",
       "temp           6.3391      0.211     30.038      0.000       5.925       6.753\n",
       "==============================================================================\n",
       "Omnibus:                     2097.525   Durbin-Watson:                   2.022\n",
       "Prob(Omnibus):                  0.000   Jarque-Bera (JB):             5337.402\n",
       "Skew:                           1.502   Prob(JB):                         0.00\n",
       "Kurtosis:                       5.790   Cond. No.                         60.1\n",
       "==============================================================================\n",
       "\n",
       "Notes:\n",
       "[1] Standard Errors assume that the covariance matrix of the errors is correctly specified.\n",
       "\"\"\""
      ]
     },
     "execution_count": 155,
     "metadata": {},
     "output_type": "execute_result"
    }
   ],
   "source": [
    "# Q1\n",
    "df = pd.read_csv('bike.csv')\n",
    "df_train, df_test = train_test_split(df, train_size=0.7, random_state=123)\n",
    "model = ols('registered~temp', df_train).fit()\n",
    "model.summary()"
   ]
  },
  {
   "cell_type": "code",
   "execution_count": 156,
   "id": "d08d4a4d",
   "metadata": {},
   "outputs": [
    {
     "data": {
      "text/plain": [
       "44.5"
      ]
     },
     "execution_count": 156,
     "metadata": {},
     "output_type": "execute_result"
    }
   ],
   "source": [
    "# Q2\n",
    "df = pd.read_csv('bike.csv')\n",
    "df_train, df_test = train_test_split(df, train_size=0.7, random_state=123)\n",
    "model = ols('casual~atemp', df_train).fit()\n",
    "pred = model.predict(df_test)\n",
    "(mean_squared_error(y_true=df_test['casual'], y_pred=pred)**0.5).round(1)"
   ]
  },
  {
   "cell_type": "code",
   "execution_count": 169,
   "id": "f68fb222",
   "metadata": {},
   "outputs": [
    {
     "data": {
      "text/plain": [
       "8.6"
      ]
     },
     "execution_count": 169,
     "metadata": {},
     "output_type": "execute_result"
    }
   ],
   "source": [
    "# Q3\n",
    "df = pd.read_csv('bike.csv')\n",
    "\n",
    "# 여름\n",
    "df_2 = df[df['season']==2]\n",
    "df_train_2, df_test_2 = train_test_split(df_2, train_size=0.7, random_state=123)\n",
    "model_2 = ols('casual~atemp', df_train_2).fit()\n",
    "pred_2 = model.predict(df_test_2)\n",
    "rmse_2 = mean_squared_error(y_true=df_test_2['casual'], y_pred=pred_2)**0.5\n",
    "\n",
    "# 겨울\n",
    "df_4 = df[df['season']==4]\n",
    "df_train_4, df_test_4 = train_test_split(df_4, train_size=0.7, random_state=123)\n",
    "model_4 = ols('casual~atemp', df_train_4).fit()\n",
    "pred_4 = model.predict(df_test_4)\n",
    "rmse_4 = mean_squared_error(y_true=df_test_4['casual'], y_pred=pred_4)**0.5\n",
    "\n",
    "# 두 계절의 RMSE 차이\n",
    "abs(rmse_2 - rmse_4).round(1)"
   ]
  },
  {
   "cell_type": "markdown",
   "id": "0bff4a59",
   "metadata": {},
   "source": [
    "# 다중 회귀분석(Multiple Linear Regression)"
   ]
  },
  {
   "cell_type": "code",
   "execution_count": 177,
   "id": "a94753d3",
   "metadata": {},
   "outputs": [],
   "source": [
    "from patsy import dmatrices\n",
    "from statsmodels.stats.outliers_influence import variance_inflation_factor as vif"
   ]
  },
  {
   "cell_type": "code",
   "execution_count": 206,
   "id": "378127b1",
   "metadata": {},
   "outputs": [
    {
     "data": {
      "text/html": [
       "<div>\n",
       "<style scoped>\n",
       "    .dataframe tbody tr th:only-of-type {\n",
       "        vertical-align: middle;\n",
       "    }\n",
       "\n",
       "    .dataframe tbody tr th {\n",
       "        vertical-align: top;\n",
       "    }\n",
       "\n",
       "    .dataframe thead th {\n",
       "        text-align: right;\n",
       "    }\n",
       "</style>\n",
       "<table border=\"1\" class=\"dataframe\">\n",
       "  <thead>\n",
       "    <tr style=\"text-align: right;\">\n",
       "      <th></th>\n",
       "      <th>colnames</th>\n",
       "      <th>VIF</th>\n",
       "    </tr>\n",
       "  </thead>\n",
       "  <tbody>\n",
       "    <tr>\n",
       "      <th>0</th>\n",
       "      <td>Intercept</td>\n",
       "      <td>4821.696350</td>\n",
       "    </tr>\n",
       "    <tr>\n",
       "      <th>1</th>\n",
       "      <td>carat</td>\n",
       "      <td>21.602712</td>\n",
       "    </tr>\n",
       "    <tr>\n",
       "      <th>2</th>\n",
       "      <td>depth</td>\n",
       "      <td>1.496590</td>\n",
       "    </tr>\n",
       "    <tr>\n",
       "      <th>3</th>\n",
       "      <td>table</td>\n",
       "      <td>1.143225</td>\n",
       "    </tr>\n",
       "    <tr>\n",
       "      <th>4</th>\n",
       "      <td>x</td>\n",
       "      <td>56.187704</td>\n",
       "    </tr>\n",
       "    <tr>\n",
       "      <th>5</th>\n",
       "      <td>y</td>\n",
       "      <td>20.454295</td>\n",
       "    </tr>\n",
       "    <tr>\n",
       "      <th>6</th>\n",
       "      <td>z</td>\n",
       "      <td>23.530049</td>\n",
       "    </tr>\n",
       "  </tbody>\n",
       "</table>\n",
       "</div>"
      ],
      "text/plain": [
       "    colnames          VIF\n",
       "0  Intercept  4821.696350\n",
       "1      carat    21.602712\n",
       "2      depth     1.496590\n",
       "3      table     1.143225\n",
       "4          x    56.187704\n",
       "5          y    20.454295\n",
       "6          z    23.530049"
      ]
     },
     "execution_count": 206,
     "metadata": {},
     "output_type": "execute_result"
    }
   ],
   "source": [
    "# Q1\n",
    "df = pd.read_csv('diamonds.csv')\n",
    "df = df.iloc[:, [6, 0, 4, 5, 7, 8, 9]]\n",
    "\n",
    "formula = 'price ~ ' + '+'.join(df.columns[1:])\n",
    "y, X = dmatrices(formula, df, return_type='dataframe')\n",
    "\n",
    "df_vif = pd.DataFrame()\n",
    "df_vif['colnames'] = X.columns\n",
    "df_vif['VIF'] = [vif(X.values, i) for i in range(len(X.columns))]\n",
    "df_vif"
   ]
  },
  {
   "cell_type": "code",
   "execution_count": 226,
   "id": "8552d4a4",
   "metadata": {},
   "outputs": [
    {
     "data": {
      "text/plain": [
       "0    5681.0\n",
       "dtype: float64"
      ]
     },
     "execution_count": 226,
     "metadata": {},
     "output_type": "execute_result"
    }
   ],
   "source": [
    "# Q2\n",
    "df = pd.read_csv('diamonds.csv')\n",
    "formula = 'price ~ carat + depth'\n",
    "model = ols(formula, df).fit()\n",
    "df_test = pd.DataFrame({'carat':[1], 'depth':[60], 'table':[55]})\n",
    "model.predict(df_test).round()"
   ]
  },
  {
   "cell_type": "code",
   "execution_count": 227,
   "id": "d620094c",
   "metadata": {},
   "outputs": [
    {
     "data": {
      "text/plain": [
       "0    6885.0\n",
       "dtype: float64"
      ]
     },
     "execution_count": 227,
     "metadata": {},
     "output_type": "execute_result"
    }
   ],
   "source": [
    "# Q3\n",
    "df = pd.read_csv('diamonds.csv')\n",
    "formula = 'price ~ carat + C(color) + depth'\n",
    "model = ols(formula, df).fit()\n",
    "df_test = pd.DataFrame({'carat':[1], 'depth':[50], 'color':['E']})\n",
    "model.predict(df_test).round()"
   ]
  },
  {
   "cell_type": "markdown",
   "id": "3bce40cf",
   "metadata": {},
   "source": [
    "# 분류: 로지스틱 회귀분석(Logistic Regression)"
   ]
  },
  {
   "cell_type": "code",
   "execution_count": 254,
   "id": "e95cdd49",
   "metadata": {},
   "outputs": [],
   "source": [
    "from statsmodels.api import Logit\n",
    "from sklearn.linear_model import LogisticRegression\n",
    "from sklearn.metrics import roc_auc_score, accuracy_score, precision_score, recall_score, f1_score"
   ]
  },
  {
   "cell_type": "code",
   "execution_count": 245,
   "id": "83be1daa",
   "metadata": {},
   "outputs": [
    {
     "name": "stdout",
     "output_type": "stream",
     "text": [
      "Optimization terminated successfully.\n",
      "         Current function value: 0.626579\n",
      "         Iterations 5\n"
     ]
    },
    {
     "data": {
      "text/plain": [
       "0.7"
      ]
     },
     "execution_count": 245,
     "metadata": {},
     "output_type": "execute_result"
    }
   ],
   "source": [
    "# Q1\n",
    "df = pd.read_csv('diabetes.csv')\n",
    "df_train, df_test = train_test_split(df, train_size=0.8, random_state=123)\n",
    "\n",
    "model = Logit(endog=df_train['Outcome'],\n",
    "              exog=df_train.loc[:, ['BloodPressure', 'Glucose', 'BMI', 'Insulin']]).fit()\n",
    "\n",
    "pred = model.predict(df_test.loc[:, ['BloodPressure', 'Glucose', 'BMI', 'Insulin']])\n",
    "pred_class = (pred>0.5) + 0\n",
    "\n",
    "accuracy_score(y_pred=pred_class, y_true=df_test['Outcome']).round(2)"
   ]
  },
  {
   "cell_type": "code",
   "execution_count": 252,
   "id": "779a2f22",
   "metadata": {},
   "outputs": [
    {
     "name": "stdout",
     "output_type": "stream",
     "text": [
      "Optimization terminated successfully.\n",
      "         Current function value: 0.656276\n",
      "         Iterations 4\n"
     ]
    },
    {
     "data": {
      "text/plain": [
       "Glucose    1.01\n",
       "BMI        0.96\n",
       "Age        0.99\n",
       "dtype: float64"
      ]
     },
     "execution_count": 252,
     "metadata": {},
     "output_type": "execute_result"
    }
   ],
   "source": [
    "# Q2\n",
    "df = pd.read_csv('diabetes.csv')\n",
    "\n",
    "model = Logit(endog=df['Outcome'],\n",
    "             exog=df.loc[:, ['Glucose', 'BMI', 'Age']]).fit()\n",
    "\n",
    "np.exp(model.params).round(2) # odds ratio"
   ]
  },
  {
   "cell_type": "code",
   "execution_count": 257,
   "id": "1333f4be",
   "metadata": {},
   "outputs": [
    {
     "name": "stdout",
     "output_type": "stream",
     "text": [
      "Optimization terminated successfully.\n",
      "         Current function value: 0.656276\n",
      "         Iterations 4\n"
     ]
    },
    {
     "data": {
      "text/plain": [
       "0.54"
      ]
     },
     "execution_count": 257,
     "metadata": {},
     "output_type": "execute_result"
    }
   ],
   "source": [
    "# Q3\n",
    "df = pd.read_csv('diabetes.csv')\n",
    "\n",
    "model = Logit(endog=df['Outcome'],\n",
    "             exog=df.loc[:, ['Glucose', 'BMI', 'Age']]).fit()\n",
    "\n",
    "pred = model.predict(df.loc[:, ['Glucose', 'BMI', 'Age']])\n",
    "\n",
    "roc_auc_score(y_true=df['Outcome'], y_score=pred).round(2)"
   ]
  },
  {
   "cell_type": "markdown",
   "id": "3dac4705",
   "metadata": {},
   "source": [
    "# 의사결정나무 모델: 분류 및 회귀나무"
   ]
  },
  {
   "cell_type": "code",
   "execution_count": 258,
   "id": "38b4e4f5",
   "metadata": {},
   "outputs": [],
   "source": [
    "from sklearn.tree import DecisionTreeClassifier, DecisionTreeRegressor"
   ]
  },
  {
   "cell_type": "code",
   "execution_count": 267,
   "id": "d7c77922",
   "metadata": {},
   "outputs": [
    {
     "data": {
      "text/plain": [
       "0.63"
      ]
     },
     "execution_count": 267,
     "metadata": {},
     "output_type": "execute_result"
    }
   ],
   "source": [
    "# Q1\n",
    "df = pd.read_csv('diabetes.csv')\n",
    "df_train, df_test = train_test_split(df, train_size=0.8, random_state=123)\n",
    "\n",
    "model = DecisionTreeClassifier(random_state=123)\n",
    "model.fit(y = df_train['Outcome'],\n",
    "         X = df_train.loc[:, ['Glucose', 'BloodPressure', 'Pregnancies']])\n",
    "\n",
    "pred = model.predict(df_test.loc[:, ['Glucose', 'BloodPressure', 'Pregnancies']])\n",
    "\n",
    "accuracy_score(y_pred = pred, y_true = df_test['Outcome']).round(2)"
   ]
  },
  {
   "cell_type": "code",
   "execution_count": 272,
   "id": "3dff81b0",
   "metadata": {},
   "outputs": [
    {
     "data": {
      "text/plain": [
       "9.9"
      ]
     },
     "execution_count": 272,
     "metadata": {},
     "output_type": "execute_result"
    }
   ],
   "source": [
    "# Q2\n",
    "df = pd.read_csv('diabetes.csv')\n",
    "df_train, df_test = train_test_split(df, train_size=0.8, random_state=123)\n",
    "\n",
    "model = DecisionTreeRegressor(random_state=123)\n",
    "model.fit(y = df_train['BMI'],\n",
    "         X = df_train.loc[:, ['Glucose', 'BloodPressure', 'SkinThickness']])\n",
    "\n",
    "pred = model.predict(df_test.loc[:, ['Glucose', 'BloodPressure', 'SkinThickness']])\n",
    "\n",
    "(mean_squared_error(y_true = df_test['BMI'], y_pred = pred)**0.5).round(1)"
   ]
  },
  {
   "cell_type": "code",
   "execution_count": 281,
   "id": "95628531",
   "metadata": {},
   "outputs": [
    {
     "data": {
      "text/html": [
       "<div>\n",
       "<style scoped>\n",
       "    .dataframe tbody tr th:only-of-type {\n",
       "        vertical-align: middle;\n",
       "    }\n",
       "\n",
       "    .dataframe tbody tr th {\n",
       "        vertical-align: top;\n",
       "    }\n",
       "\n",
       "    .dataframe thead th {\n",
       "        text-align: right;\n",
       "    }\n",
       "</style>\n",
       "<table border=\"1\" class=\"dataframe\">\n",
       "  <thead>\n",
       "    <tr style=\"text-align: right;\">\n",
       "      <th></th>\n",
       "      <th>depth</th>\n",
       "      <th>accuracy</th>\n",
       "    </tr>\n",
       "  </thead>\n",
       "  <tbody>\n",
       "    <tr>\n",
       "      <th>0</th>\n",
       "      <td>3</td>\n",
       "      <td>0.77</td>\n",
       "    </tr>\n",
       "    <tr>\n",
       "      <th>1</th>\n",
       "      <td>4</td>\n",
       "      <td>0.76</td>\n",
       "    </tr>\n",
       "    <tr>\n",
       "      <th>2</th>\n",
       "      <td>5</td>\n",
       "      <td>0.76</td>\n",
       "    </tr>\n",
       "    <tr>\n",
       "      <th>3</th>\n",
       "      <td>6</td>\n",
       "      <td>0.77</td>\n",
       "    </tr>\n",
       "  </tbody>\n",
       "</table>\n",
       "</div>"
      ],
      "text/plain": [
       "   depth  accuracy\n",
       "0      3      0.77\n",
       "1      4      0.76\n",
       "2      5      0.76\n",
       "3      6      0.77"
      ]
     },
     "execution_count": 281,
     "metadata": {},
     "output_type": "execute_result"
    }
   ],
   "source": [
    "# Q3\n",
    "df = pd.read_csv('diabetes.csv')\n",
    "df_train, df_test = train_test_split(df, train_size=0.7, random_state=345)\n",
    "\n",
    "cols = ['Glucose', 'BloodPressure', 'Pregnancies', 'BMI', 'Age']\n",
    "depth_list = [3, 4, 5, 6]\n",
    "\n",
    "accs = []\n",
    "for depth in depth_list:\n",
    "    model = DecisionTreeClassifier(max_depth=depth, random_state=345)\n",
    "    model.fit(y = df_train['Outcome'],\n",
    "             X = df_train.loc[:, cols])\n",
    "    pred = model.predict(df_test.loc[:, cols])\n",
    "    accs.append(accuracy_score(y_pred=pred, y_true=df_test['Outcome']).round(2))\n",
    "\n",
    "df_acc = pd.DataFrame({'depth':depth_list, 'accuracy':accs})\n",
    "df_acc"
   ]
  },
  {
   "cell_type": "code",
   "execution_count": null,
   "id": "9ff4acd3",
   "metadata": {},
   "outputs": [],
   "source": []
  }
 ],
 "metadata": {
  "kernelspec": {
   "display_name": "Python 3 (ipykernel)",
   "language": "python",
   "name": "python3"
  },
  "language_info": {
   "codemirror_mode": {
    "name": "ipython",
    "version": 3
   },
   "file_extension": ".py",
   "mimetype": "text/x-python",
   "name": "python",
   "nbconvert_exporter": "python",
   "pygments_lexer": "ipython3",
   "version": "3.9.7"
  }
 },
 "nbformat": 4,
 "nbformat_minor": 5
}
